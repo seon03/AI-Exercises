{
  "cells": [
    {
      "cell_type": "markdown",
      "id": "92ee8bb6",
      "metadata": {
        "id": "92ee8bb6"
      },
      "source": [
        "## GPT가 인터넷 검색을 사용해서 질문에 답하는 ReAct 기반 AI 에이전트"
      ]
    },
    {
      "cell_type": "markdown",
      "id": "aabd6237",
      "metadata": {
        "id": "aabd6237"
      },
      "source": [
        "### 1. API 키 등록"
      ]
    },
    {
      "cell_type": "code",
      "source": [
        "!pip install python-dotenv"
      ],
      "metadata": {
        "id": "Pizb2IJ-0vkl"
      },
      "id": "Pizb2IJ-0vkl",
      "execution_count": null,
      "outputs": []
    },
    {
      "cell_type": "code",
      "execution_count": 1,
      "id": "3ad8e1a3",
      "metadata": {
        "id": "3ad8e1a3"
      },
      "outputs": [],
      "source": [
        "# API 키 설정\n",
        "import os\n",
        "from dotenv import load_dotenv\n",
        "\n",
        "load_dotenv()\n",
        "\n",
        "open_api_key = os.getenv('OPEN_API_KEY')\n",
        "serpapi_api_key = os.getenv('SERPAPI_API_KEY')"
      ]
    },
    {
      "cell_type": "markdown",
      "id": "c4af7850",
      "metadata": {
        "id": "c4af7850"
      },
      "source": [
        "SerpAPI는 Google 검색을 API로 사용할 수 있게 해주는 서비스이다."
      ]
    },
    {
      "cell_type": "markdown",
      "id": "7f9fc341",
      "metadata": {
        "id": "7f9fc341"
      },
      "source": [
        "### 2. LangChain Hub에서 ReAct 프롬프트 가져오기"
      ]
    },
    {
      "cell_type": "code",
      "execution_count": 2,
      "id": "33ad8a66",
      "metadata": {
        "colab": {
          "base_uri": "https://localhost:8080/"
        },
        "id": "33ad8a66",
        "outputId": "631d10a4-92f5-467e-841b-12aa1671c9a0"
      },
      "outputs": [
        {
          "output_type": "stream",
          "name": "stdout",
          "text": [
            "input_variables=['agent_scratchpad', 'input', 'tool_names', 'tools'] input_types={} partial_variables={} metadata={'lc_hub_owner': 'hwchase17', 'lc_hub_repo': 'react', 'lc_hub_commit_hash': 'd15fe3c426f1c4b3f37c9198853e4a86e20c425ca7f4752ec0c9b0e97ca7ea4d'} template='Answer the following questions as best you can. You have access to the following tools:\\n\\n{tools}\\n\\nUse the following format:\\n\\nQuestion: the input question you must answer\\nThought: you should always think about what to do\\nAction: the action to take, should be one of [{tool_names}]\\nAction Input: the input to the action\\nObservation: the result of the action\\n... (this Thought/Action/Action Input/Observation can repeat N times)\\nThought: I now know the final answer\\nFinal Answer: the final answer to the original input question\\n\\nBegin!\\n\\nQuestion: {input}\\nThought:{agent_scratchpad}'\n"
          ]
        }
      ],
      "source": [
        "# LangChain Hub 가져오기\n",
        "from langchain import hub\n",
        "\n",
        "# LangChain Hub에서 ReAct의 프롬프트 가져오기\n",
        "prompt = hub.pull(\"hwchase17/react\", api_key='LangSmith API Key')\n",
        "\n",
        "print(prompt)"
      ]
    },
    {
      "cell_type": "markdown",
      "id": "87d80843",
      "metadata": {
        "id": "87d80843"
      },
      "source": [
        "LangChain의 Hub에서 ReAct 프롬프트 템플릿을 불러온다.\n",
        "- `\"hwchase17/react\"`: LangChain의 ReAct 전략 프롬프트\n",
        "- `LangSmith API Key`: LangSmith 계정 키 (필요시 등록해야 함)\n",
        "\n",
        "| ReAct 전략은 Reasoning + Acting의 약자. LLM이 스스로 생각 -> 도구 사용 -> 최종 응답을 반복하며 문제를 해결하는 프레임워크이다."
      ]
    },
    {
      "cell_type": "markdown",
      "id": "2a1997d7",
      "metadata": {
        "id": "2a1997d7"
      },
      "source": [
        "### 3. LLM(OpenAI) + Search 도구 설정"
      ]
    },
    {
      "cell_type": "code",
      "source": [
        "!pip install langchain-openai"
      ],
      "metadata": {
        "colab": {
          "base_uri": "https://localhost:8080/"
        },
        "id": "l5bA7oSuzwQL",
        "outputId": "1c66eecb-5160-435e-80e1-81648d2bc8c1"
      },
      "id": "l5bA7oSuzwQL",
      "execution_count": 4,
      "outputs": [
        {
          "output_type": "stream",
          "name": "stdout",
          "text": [
            "Collecting langchain-openai\n",
            "  Downloading langchain_openai-0.3.17-py3-none-any.whl.metadata (2.3 kB)\n",
            "Requirement already satisfied: langchain-core<1.0.0,>=0.3.59 in /usr/local/lib/python3.11/dist-packages (from langchain-openai) (0.3.59)\n",
            "Requirement already satisfied: openai<2.0.0,>=1.68.2 in /usr/local/lib/python3.11/dist-packages (from langchain-openai) (1.78.1)\n",
            "Requirement already satisfied: tiktoken<1,>=0.7 in /usr/local/lib/python3.11/dist-packages (from langchain-openai) (0.9.0)\n",
            "Requirement already satisfied: langsmith<0.4,>=0.1.125 in /usr/local/lib/python3.11/dist-packages (from langchain-core<1.0.0,>=0.3.59->langchain-openai) (0.3.42)\n",
            "Requirement already satisfied: tenacity!=8.4.0,<10.0.0,>=8.1.0 in /usr/local/lib/python3.11/dist-packages (from langchain-core<1.0.0,>=0.3.59->langchain-openai) (9.1.2)\n",
            "Requirement already satisfied: jsonpatch<2.0,>=1.33 in /usr/local/lib/python3.11/dist-packages (from langchain-core<1.0.0,>=0.3.59->langchain-openai) (1.33)\n",
            "Requirement already satisfied: PyYAML>=5.3 in /usr/local/lib/python3.11/dist-packages (from langchain-core<1.0.0,>=0.3.59->langchain-openai) (6.0.2)\n",
            "Requirement already satisfied: packaging<25,>=23.2 in /usr/local/lib/python3.11/dist-packages (from langchain-core<1.0.0,>=0.3.59->langchain-openai) (24.2)\n",
            "Requirement already satisfied: typing-extensions>=4.7 in /usr/local/lib/python3.11/dist-packages (from langchain-core<1.0.0,>=0.3.59->langchain-openai) (4.13.2)\n",
            "Requirement already satisfied: pydantic<3.0.0,>=2.5.2 in /usr/local/lib/python3.11/dist-packages (from langchain-core<1.0.0,>=0.3.59->langchain-openai) (2.11.4)\n",
            "Requirement already satisfied: anyio<5,>=3.5.0 in /usr/local/lib/python3.11/dist-packages (from openai<2.0.0,>=1.68.2->langchain-openai) (4.9.0)\n",
            "Requirement already satisfied: distro<2,>=1.7.0 in /usr/local/lib/python3.11/dist-packages (from openai<2.0.0,>=1.68.2->langchain-openai) (1.9.0)\n",
            "Requirement already satisfied: httpx<1,>=0.23.0 in /usr/local/lib/python3.11/dist-packages (from openai<2.0.0,>=1.68.2->langchain-openai) (0.28.1)\n",
            "Requirement already satisfied: jiter<1,>=0.4.0 in /usr/local/lib/python3.11/dist-packages (from openai<2.0.0,>=1.68.2->langchain-openai) (0.9.0)\n",
            "Requirement already satisfied: sniffio in /usr/local/lib/python3.11/dist-packages (from openai<2.0.0,>=1.68.2->langchain-openai) (1.3.1)\n",
            "Requirement already satisfied: tqdm>4 in /usr/local/lib/python3.11/dist-packages (from openai<2.0.0,>=1.68.2->langchain-openai) (4.67.1)\n",
            "Requirement already satisfied: regex>=2022.1.18 in /usr/local/lib/python3.11/dist-packages (from tiktoken<1,>=0.7->langchain-openai) (2024.11.6)\n",
            "Requirement already satisfied: requests>=2.26.0 in /usr/local/lib/python3.11/dist-packages (from tiktoken<1,>=0.7->langchain-openai) (2.32.3)\n",
            "Requirement already satisfied: idna>=2.8 in /usr/local/lib/python3.11/dist-packages (from anyio<5,>=3.5.0->openai<2.0.0,>=1.68.2->langchain-openai) (3.10)\n",
            "Requirement already satisfied: certifi in /usr/local/lib/python3.11/dist-packages (from httpx<1,>=0.23.0->openai<2.0.0,>=1.68.2->langchain-openai) (2025.4.26)\n",
            "Requirement already satisfied: httpcore==1.* in /usr/local/lib/python3.11/dist-packages (from httpx<1,>=0.23.0->openai<2.0.0,>=1.68.2->langchain-openai) (1.0.9)\n",
            "Requirement already satisfied: h11>=0.16 in /usr/local/lib/python3.11/dist-packages (from httpcore==1.*->httpx<1,>=0.23.0->openai<2.0.0,>=1.68.2->langchain-openai) (0.16.0)\n",
            "Requirement already satisfied: jsonpointer>=1.9 in /usr/local/lib/python3.11/dist-packages (from jsonpatch<2.0,>=1.33->langchain-core<1.0.0,>=0.3.59->langchain-openai) (3.0.0)\n",
            "Requirement already satisfied: orjson<4.0.0,>=3.9.14 in /usr/local/lib/python3.11/dist-packages (from langsmith<0.4,>=0.1.125->langchain-core<1.0.0,>=0.3.59->langchain-openai) (3.10.18)\n",
            "Requirement already satisfied: requests-toolbelt<2.0.0,>=1.0.0 in /usr/local/lib/python3.11/dist-packages (from langsmith<0.4,>=0.1.125->langchain-core<1.0.0,>=0.3.59->langchain-openai) (1.0.0)\n",
            "Requirement already satisfied: zstandard<0.24.0,>=0.23.0 in /usr/local/lib/python3.11/dist-packages (from langsmith<0.4,>=0.1.125->langchain-core<1.0.0,>=0.3.59->langchain-openai) (0.23.0)\n",
            "Requirement already satisfied: annotated-types>=0.6.0 in /usr/local/lib/python3.11/dist-packages (from pydantic<3.0.0,>=2.5.2->langchain-core<1.0.0,>=0.3.59->langchain-openai) (0.7.0)\n",
            "Requirement already satisfied: pydantic-core==2.33.2 in /usr/local/lib/python3.11/dist-packages (from pydantic<3.0.0,>=2.5.2->langchain-core<1.0.0,>=0.3.59->langchain-openai) (2.33.2)\n",
            "Requirement already satisfied: typing-inspection>=0.4.0 in /usr/local/lib/python3.11/dist-packages (from pydantic<3.0.0,>=2.5.2->langchain-core<1.0.0,>=0.3.59->langchain-openai) (0.4.0)\n",
            "Requirement already satisfied: charset-normalizer<4,>=2 in /usr/local/lib/python3.11/dist-packages (from requests>=2.26.0->tiktoken<1,>=0.7->langchain-openai) (3.4.2)\n",
            "Requirement already satisfied: urllib3<3,>=1.21.1 in /usr/local/lib/python3.11/dist-packages (from requests>=2.26.0->tiktoken<1,>=0.7->langchain-openai) (2.4.0)\n",
            "Downloading langchain_openai-0.3.17-py3-none-any.whl (62 kB)\n",
            "\u001b[?25l   \u001b[90m━━━━━━━━━━━━━━━━━━━━━━━━━━━━━━━━━━━━━━━━\u001b[0m \u001b[32m0.0/62.9 kB\u001b[0m \u001b[31m?\u001b[0m eta \u001b[36m-:--:--\u001b[0m\r\u001b[2K   \u001b[91m━━━━━━━━━━━━━━━━━━━━━━━━━━━━━━━━━━━━━━━\u001b[0m\u001b[90m╺\u001b[0m \u001b[32m61.4/62.9 kB\u001b[0m \u001b[31m2.6 MB/s\u001b[0m eta \u001b[36m0:00:01\u001b[0m\r\u001b[2K   \u001b[90m━━━━━━━━━━━━━━━━━━━━━━━━━━━━━━━━━━━━━━━━\u001b[0m \u001b[32m62.9/62.9 kB\u001b[0m \u001b[31m1.5 MB/s\u001b[0m eta \u001b[36m0:00:00\u001b[0m\n",
            "\u001b[?25hInstalling collected packages: langchain-openai\n",
            "Successfully installed langchain-openai-0.3.17\n"
          ]
        }
      ]
    },
    {
      "cell_type": "code",
      "execution_count": 5,
      "id": "70af8a2b",
      "metadata": {
        "id": "70af8a2b"
      },
      "outputs": [],
      "source": [
        "# OpenAI 가져오기\n",
        "from langchain_openai import OpenAI\n",
        "\n",
        "# 사용할 대형 언어 모델 선택\n",
        "llm = OpenAI()"
      ]
    },
    {
      "cell_type": "markdown",
      "id": "95c6e606",
      "metadata": {
        "id": "95c6e606"
      },
      "source": [
        "OpenAI GPT 모델을 사용한다."
      ]
    },
    {
      "cell_type": "code",
      "source": [
        "!pip install langchain-community"
      ],
      "metadata": {
        "colab": {
          "base_uri": "https://localhost:8080/"
        },
        "id": "s_eLj8nyz7Tb",
        "outputId": "f63d79f9-c63d-489f-b5f0-f276e4e568b8"
      },
      "id": "s_eLj8nyz7Tb",
      "execution_count": 7,
      "outputs": [
        {
          "output_type": "stream",
          "name": "stdout",
          "text": [
            "Collecting langchain-community\n",
            "  Downloading langchain_community-0.3.24-py3-none-any.whl.metadata (2.5 kB)\n",
            "Requirement already satisfied: langchain-core<1.0.0,>=0.3.59 in /usr/local/lib/python3.11/dist-packages (from langchain-community) (0.3.59)\n",
            "Requirement already satisfied: langchain<1.0.0,>=0.3.25 in /usr/local/lib/python3.11/dist-packages (from langchain-community) (0.3.25)\n",
            "Requirement already satisfied: SQLAlchemy<3,>=1.4 in /usr/local/lib/python3.11/dist-packages (from langchain-community) (2.0.40)\n",
            "Requirement already satisfied: requests<3,>=2 in /usr/local/lib/python3.11/dist-packages (from langchain-community) (2.32.3)\n",
            "Requirement already satisfied: PyYAML>=5.3 in /usr/local/lib/python3.11/dist-packages (from langchain-community) (6.0.2)\n",
            "Requirement already satisfied: aiohttp<4.0.0,>=3.8.3 in /usr/local/lib/python3.11/dist-packages (from langchain-community) (3.11.15)\n",
            "Requirement already satisfied: tenacity!=8.4.0,<10,>=8.1.0 in /usr/local/lib/python3.11/dist-packages (from langchain-community) (9.1.2)\n",
            "Collecting dataclasses-json<0.7,>=0.5.7 (from langchain-community)\n",
            "  Downloading dataclasses_json-0.6.7-py3-none-any.whl.metadata (25 kB)\n",
            "Collecting pydantic-settings<3.0.0,>=2.4.0 (from langchain-community)\n",
            "  Downloading pydantic_settings-2.9.1-py3-none-any.whl.metadata (3.8 kB)\n",
            "Requirement already satisfied: langsmith<0.4,>=0.1.125 in /usr/local/lib/python3.11/dist-packages (from langchain-community) (0.3.42)\n",
            "Collecting httpx-sse<1.0.0,>=0.4.0 (from langchain-community)\n",
            "  Downloading httpx_sse-0.4.0-py3-none-any.whl.metadata (9.0 kB)\n",
            "Requirement already satisfied: numpy>=1.26.2 in /usr/local/lib/python3.11/dist-packages (from langchain-community) (2.0.2)\n",
            "Requirement already satisfied: aiohappyeyeballs>=2.3.0 in /usr/local/lib/python3.11/dist-packages (from aiohttp<4.0.0,>=3.8.3->langchain-community) (2.6.1)\n",
            "Requirement already satisfied: aiosignal>=1.1.2 in /usr/local/lib/python3.11/dist-packages (from aiohttp<4.0.0,>=3.8.3->langchain-community) (1.3.2)\n",
            "Requirement already satisfied: attrs>=17.3.0 in /usr/local/lib/python3.11/dist-packages (from aiohttp<4.0.0,>=3.8.3->langchain-community) (25.3.0)\n",
            "Requirement already satisfied: frozenlist>=1.1.1 in /usr/local/lib/python3.11/dist-packages (from aiohttp<4.0.0,>=3.8.3->langchain-community) (1.6.0)\n",
            "Requirement already satisfied: multidict<7.0,>=4.5 in /usr/local/lib/python3.11/dist-packages (from aiohttp<4.0.0,>=3.8.3->langchain-community) (6.4.3)\n",
            "Requirement already satisfied: propcache>=0.2.0 in /usr/local/lib/python3.11/dist-packages (from aiohttp<4.0.0,>=3.8.3->langchain-community) (0.3.1)\n",
            "Requirement already satisfied: yarl<2.0,>=1.17.0 in /usr/local/lib/python3.11/dist-packages (from aiohttp<4.0.0,>=3.8.3->langchain-community) (1.20.0)\n",
            "Collecting marshmallow<4.0.0,>=3.18.0 (from dataclasses-json<0.7,>=0.5.7->langchain-community)\n",
            "  Downloading marshmallow-3.26.1-py3-none-any.whl.metadata (7.3 kB)\n",
            "Collecting typing-inspect<1,>=0.4.0 (from dataclasses-json<0.7,>=0.5.7->langchain-community)\n",
            "  Downloading typing_inspect-0.9.0-py3-none-any.whl.metadata (1.5 kB)\n",
            "Requirement already satisfied: langchain-text-splitters<1.0.0,>=0.3.8 in /usr/local/lib/python3.11/dist-packages (from langchain<1.0.0,>=0.3.25->langchain-community) (0.3.8)\n",
            "Requirement already satisfied: pydantic<3.0.0,>=2.7.4 in /usr/local/lib/python3.11/dist-packages (from langchain<1.0.0,>=0.3.25->langchain-community) (2.11.4)\n",
            "Requirement already satisfied: jsonpatch<2.0,>=1.33 in /usr/local/lib/python3.11/dist-packages (from langchain-core<1.0.0,>=0.3.59->langchain-community) (1.33)\n",
            "Requirement already satisfied: packaging<25,>=23.2 in /usr/local/lib/python3.11/dist-packages (from langchain-core<1.0.0,>=0.3.59->langchain-community) (24.2)\n",
            "Requirement already satisfied: typing-extensions>=4.7 in /usr/local/lib/python3.11/dist-packages (from langchain-core<1.0.0,>=0.3.59->langchain-community) (4.13.2)\n",
            "Requirement already satisfied: httpx<1,>=0.23.0 in /usr/local/lib/python3.11/dist-packages (from langsmith<0.4,>=0.1.125->langchain-community) (0.28.1)\n",
            "Requirement already satisfied: orjson<4.0.0,>=3.9.14 in /usr/local/lib/python3.11/dist-packages (from langsmith<0.4,>=0.1.125->langchain-community) (3.10.18)\n",
            "Requirement already satisfied: requests-toolbelt<2.0.0,>=1.0.0 in /usr/local/lib/python3.11/dist-packages (from langsmith<0.4,>=0.1.125->langchain-community) (1.0.0)\n",
            "Requirement already satisfied: zstandard<0.24.0,>=0.23.0 in /usr/local/lib/python3.11/dist-packages (from langsmith<0.4,>=0.1.125->langchain-community) (0.23.0)\n",
            "Collecting python-dotenv>=0.21.0 (from pydantic-settings<3.0.0,>=2.4.0->langchain-community)\n",
            "  Downloading python_dotenv-1.1.0-py3-none-any.whl.metadata (24 kB)\n",
            "Requirement already satisfied: typing-inspection>=0.4.0 in /usr/local/lib/python3.11/dist-packages (from pydantic-settings<3.0.0,>=2.4.0->langchain-community) (0.4.0)\n",
            "Requirement already satisfied: charset-normalizer<4,>=2 in /usr/local/lib/python3.11/dist-packages (from requests<3,>=2->langchain-community) (3.4.2)\n",
            "Requirement already satisfied: idna<4,>=2.5 in /usr/local/lib/python3.11/dist-packages (from requests<3,>=2->langchain-community) (3.10)\n",
            "Requirement already satisfied: urllib3<3,>=1.21.1 in /usr/local/lib/python3.11/dist-packages (from requests<3,>=2->langchain-community) (2.4.0)\n",
            "Requirement already satisfied: certifi>=2017.4.17 in /usr/local/lib/python3.11/dist-packages (from requests<3,>=2->langchain-community) (2025.4.26)\n",
            "Requirement already satisfied: greenlet>=1 in /usr/local/lib/python3.11/dist-packages (from SQLAlchemy<3,>=1.4->langchain-community) (3.2.2)\n",
            "Requirement already satisfied: anyio in /usr/local/lib/python3.11/dist-packages (from httpx<1,>=0.23.0->langsmith<0.4,>=0.1.125->langchain-community) (4.9.0)\n",
            "Requirement already satisfied: httpcore==1.* in /usr/local/lib/python3.11/dist-packages (from httpx<1,>=0.23.0->langsmith<0.4,>=0.1.125->langchain-community) (1.0.9)\n",
            "Requirement already satisfied: h11>=0.16 in /usr/local/lib/python3.11/dist-packages (from httpcore==1.*->httpx<1,>=0.23.0->langsmith<0.4,>=0.1.125->langchain-community) (0.16.0)\n",
            "Requirement already satisfied: jsonpointer>=1.9 in /usr/local/lib/python3.11/dist-packages (from jsonpatch<2.0,>=1.33->langchain-core<1.0.0,>=0.3.59->langchain-community) (3.0.0)\n",
            "Requirement already satisfied: annotated-types>=0.6.0 in /usr/local/lib/python3.11/dist-packages (from pydantic<3.0.0,>=2.7.4->langchain<1.0.0,>=0.3.25->langchain-community) (0.7.0)\n",
            "Requirement already satisfied: pydantic-core==2.33.2 in /usr/local/lib/python3.11/dist-packages (from pydantic<3.0.0,>=2.7.4->langchain<1.0.0,>=0.3.25->langchain-community) (2.33.2)\n",
            "Collecting mypy-extensions>=0.3.0 (from typing-inspect<1,>=0.4.0->dataclasses-json<0.7,>=0.5.7->langchain-community)\n",
            "  Downloading mypy_extensions-1.1.0-py3-none-any.whl.metadata (1.1 kB)\n",
            "Requirement already satisfied: sniffio>=1.1 in /usr/local/lib/python3.11/dist-packages (from anyio->httpx<1,>=0.23.0->langsmith<0.4,>=0.1.125->langchain-community) (1.3.1)\n",
            "Downloading langchain_community-0.3.24-py3-none-any.whl (2.5 MB)\n",
            "\u001b[2K   \u001b[90m━━━━━━━━━━━━━━━━━━━━━━━━━━━━━━━━━━━━━━━━\u001b[0m \u001b[32m2.5/2.5 MB\u001b[0m \u001b[31m28.2 MB/s\u001b[0m eta \u001b[36m0:00:00\u001b[0m\n",
            "\u001b[?25hDownloading dataclasses_json-0.6.7-py3-none-any.whl (28 kB)\n",
            "Downloading httpx_sse-0.4.0-py3-none-any.whl (7.8 kB)\n",
            "Downloading pydantic_settings-2.9.1-py3-none-any.whl (44 kB)\n",
            "\u001b[2K   \u001b[90m━━━━━━━━━━━━━━━━━━━━━━━━━━━━━━━━━━━━━━━━\u001b[0m \u001b[32m44.4/44.4 kB\u001b[0m \u001b[31m2.8 MB/s\u001b[0m eta \u001b[36m0:00:00\u001b[0m\n",
            "\u001b[?25hDownloading marshmallow-3.26.1-py3-none-any.whl (50 kB)\n",
            "\u001b[2K   \u001b[90m━━━━━━━━━━━━━━━━━━━━━━━━━━━━━━━━━━━━━━━━\u001b[0m \u001b[32m50.9/50.9 kB\u001b[0m \u001b[31m3.3 MB/s\u001b[0m eta \u001b[36m0:00:00\u001b[0m\n",
            "\u001b[?25hDownloading python_dotenv-1.1.0-py3-none-any.whl (20 kB)\n",
            "Downloading typing_inspect-0.9.0-py3-none-any.whl (8.8 kB)\n",
            "Downloading mypy_extensions-1.1.0-py3-none-any.whl (5.0 kB)\n",
            "Installing collected packages: python-dotenv, mypy-extensions, marshmallow, httpx-sse, typing-inspect, pydantic-settings, dataclasses-json, langchain-community\n",
            "Successfully installed dataclasses-json-0.6.7 httpx-sse-0.4.0 langchain-community-0.3.24 marshmallow-3.26.1 mypy-extensions-1.1.0 pydantic-settings-2.9.1 python-dotenv-1.1.0 typing-inspect-0.9.0\n"
          ]
        }
      ]
    },
    {
      "cell_type": "code",
      "source": [
        "!pip install google-search-results"
      ],
      "metadata": {
        "colab": {
          "base_uri": "https://localhost:8080/"
        },
        "id": "qax8Eacg0QQr",
        "outputId": "cd68bed8-8113-49b9-b66e-77a90757b1dc"
      },
      "id": "qax8Eacg0QQr",
      "execution_count": 11,
      "outputs": [
        {
          "output_type": "stream",
          "name": "stdout",
          "text": [
            "Collecting google-search-results\n",
            "  Downloading google_search_results-2.4.2.tar.gz (18 kB)\n",
            "  Preparing metadata (setup.py) ... \u001b[?25l\u001b[?25hdone\n",
            "Requirement already satisfied: requests in /usr/local/lib/python3.11/dist-packages (from google-search-results) (2.32.3)\n",
            "Requirement already satisfied: charset-normalizer<4,>=2 in /usr/local/lib/python3.11/dist-packages (from requests->google-search-results) (3.4.2)\n",
            "Requirement already satisfied: idna<4,>=2.5 in /usr/local/lib/python3.11/dist-packages (from requests->google-search-results) (3.10)\n",
            "Requirement already satisfied: urllib3<3,>=1.21.1 in /usr/local/lib/python3.11/dist-packages (from requests->google-search-results) (2.4.0)\n",
            "Requirement already satisfied: certifi>=2017.4.17 in /usr/local/lib/python3.11/dist-packages (from requests->google-search-results) (2025.4.26)\n",
            "Building wheels for collected packages: google-search-results\n",
            "  Building wheel for google-search-results (setup.py) ... \u001b[?25l\u001b[?25hdone\n",
            "  Created wheel for google-search-results: filename=google_search_results-2.4.2-py3-none-any.whl size=32010 sha256=91db7f49385d32abe51211586117a98d3f5592cfefc13c0d65e24873eb814b65\n",
            "  Stored in directory: /root/.cache/pip/wheels/6e/42/3e/aeb691b02cb7175ec70e2da04b5658d4739d2b41e5f73cd06f\n",
            "Successfully built google-search-results\n",
            "Installing collected packages: google-search-results\n",
            "Successfully installed google-search-results-2.4.2\n"
          ]
        }
      ]
    },
    {
      "cell_type": "code",
      "execution_count": 12,
      "id": "f92156d1",
      "metadata": {
        "id": "f92156d1"
      },
      "outputs": [],
      "source": [
        "# SerpAPIWrapper를 통해 도구 모듈 가져오기\n",
        "from langchain_community.utilities import SerpAPIWrapper\n",
        "from langchain.tools import Tool\n",
        "\n",
        "# SerpAPIWrapper 인스턴스화\n",
        "search = SerpAPIWrapper()\n",
        "\n",
        "# 도구 목록 준비\n",
        "tools = [\n",
        "    Tool(\n",
        "        name=\"Search\",\n",
        "        func=search.run,\n",
        "        description=\"대형 언어 모델이 관련 지식이 없을 때 지식 검색에 사용됩니다.\"\n",
        "    ),\n",
        "]"
      ]
    },
    {
      "cell_type": "markdown",
      "id": "da0fd231",
      "metadata": {
        "id": "da0fd231"
      },
      "source": [
        "검색 도구(SerpAPI)를 Tool 객체로 구성\n",
        "- `func`: 실행할 함수 (`search.run`)\n",
        "- `description`: 이 도구를 사용할 상황 설명 (LLM이 사용 결정에 참고함)"
      ]
    },
    {
      "cell_type": "markdown",
      "id": "cbf1ca0c",
      "metadata": {
        "id": "cbf1ca0c"
      },
      "source": [
        "### 4. ReAct 에이전트 생성"
      ]
    },
    {
      "cell_type": "code",
      "execution_count": 14,
      "id": "0b7df162",
      "metadata": {
        "id": "0b7df162"
      },
      "outputs": [],
      "source": [
        "# create_react_agent 기능 가져오기\n",
        "from langchain.agents import create_react_agent\n",
        "\n",
        "# ReAct 에이전트 생성\n",
        "agent = create_react_agent(llm, tools, prompt)"
      ]
    },
    {
      "cell_type": "markdown",
      "id": "d536318c",
      "metadata": {
        "id": "d536318c"
      },
      "source": [
        "앞에서 설정한 LLM + 도구 + 프롬프트를 기반으로 ReAct 에이전트 생성\n",
        "- 이 에이전트는 프롬프트 지침에 따라 질문에 대해 도구를 사용하거나 직접 답변함"
      ]
    },
    {
      "cell_type": "markdown",
      "id": "d696940c",
      "metadata": {
        "id": "d696940c"
      },
      "source": [
        "### 5. AgentExecutor로 실행"
      ]
    },
    {
      "cell_type": "code",
      "execution_count": 15,
      "id": "fd0d4184",
      "metadata": {
        "id": "fd0d4184"
      },
      "outputs": [],
      "source": [
        "# AgentExecutor 가져오기\n",
        "from langchain.agents import AgentExecutor\n",
        "\n",
        "# 에이전트와 도구를 전달하여 AgentExecutor 생성\n",
        "agent_executor = AgentExecutor(agent=agent, tools=tools, verbose=True)"
      ]
    },
    {
      "cell_type": "markdown",
      "id": "88cf2d19",
      "metadata": {
        "id": "88cf2d19"
      },
      "source": [
        "에이전트를 실행할 수 있는 인터페이스를 생성\n",
        "- `verbose=True`: 도구 사용 로그를 출력해서 추론 과정을 확인할 수 있음"
      ]
    },
    {
      "cell_type": "code",
      "execution_count": 16,
      "id": "23e6897a",
      "metadata": {
        "colab": {
          "base_uri": "https://localhost:8080/"
        },
        "id": "23e6897a",
        "outputId": "c19ee29f-f7a2-41e9-d368-b273b2882f5f"
      },
      "outputs": [
        {
          "output_type": "stream",
          "name": "stdout",
          "text": [
            "첫 번째 실행 결과:\n",
            "\n",
            "\n",
            "\u001b[1m> Entering new AgentExecutor chain...\u001b[0m\n",
            "\u001b[32;1m\u001b[1;3m 인공 지능의 최신 연구 진전은 무엇인지에 대해 알아보기 위해 지식 검색을 해야합니다.\n",
            "Action: Search\n",
            "Action Input: \"latest research progress in artificial intelligence agents\"\u001b[0m\u001b[36;1m\u001b[1;3m[\"2025's agents will be fully autonomous AI programs that can scope out a project and complete it with all the necessary tools they need and with no help from ...\", 'Increased Autonomy: AI agents will become more capable of operating independently and making complex decisions with minimal human intervention.', 'Nearly 90% of notable AI models in 2024 came from industry, up from 60% in 2023, while academia remains the top source of highly cited research. Model scale ...', 'A multi-agent AI system built with Gemini 2.0 as a virtual scientific collaborator to help scientists generate novel hypotheses and research proposals.', '22, 2025 — Researchers have developed a new artificial intelligence (AI) technique that brings machine vision closer to how the human brain processes images.', 'This article highlights the top 10 research papers that have shaped the field of AI agents, showcasing key breakthroughs, methodologies, and their implications.', 'The latest McKinsey Global Survey on AI finds that organizations are beginning to take steps that drive bottom-line impact—for example, ...', \"AI agents draw not only from databases and networks, but can also learn from user behavior, improving over time. Agents' adaptability enables them to handle ...\", \"We explore 10 cutting-edge arXiv papers that are reshaping the landscape of intelligent agents. These visionary works push the boundaries of what's possible.\"]\u001b[0m\u001b[32;1m\u001b[1;3m 많은 관련 정보를 찾을 수 있습니다.\n",
            "Action: Search\n",
            "Action Input: \"recent advancements in artificial intelligence agents\"\u001b[0m\u001b[36;1m\u001b[1;3m['Another “invisible” AI advancement is improvements to the training of large language models (LLMs), which have a high cost and energy ...', \"A List of AI Agents Set to Dominate in 2025 · Oracle's Miracle Agent · Microsoft's Work Recall with Copilot Vision · Anthropic's Claude 3.5.\", 'These AI-powered helpers are becoming increasingly capable, ready to take on tasks and make decisions with minimal human intervention.', 'Recent advancements are linked to the concept of multi-agent systems (MAS), where independent AI agents collaborate, compete or negotiate to ...', \"“Right now, we're seeing early glimpses—AI agents can already analyze data, predict trends and automate workflows to some extent. But building AI agents that ...\", 'Learn how agentic AI is evolving in the modern era of software development, and how AI agents can overhaul typical workflows.', 'AI agents in modern enterprises are transforming business operations by automating tasks, enhancing decision-making, and driving innovation.', 'Recent research has introduced several innovative architectures that enhance the capabilities of AI agents. One notable architecture is ReAct ( ...', 'AI agents are not only a way to get more value for people but are going to be a paradigm shift in terms of how work gets done. Agents are not ...']\u001b[0m\u001b[32;1m\u001b[1;3m 많은 관련 정보를 찾을 수 있습니다.\n",
            "Action: Search\n",
            "Action Input: \"recent developments in AI agents\"\u001b[0m\u001b[36;1m\u001b[1;3m[{'title': 'Microsoft goes all in on AI agents at annual Build conference', 'link': 'https://finance.yahoo.com/news/microsoft-goes-all-in-on-ai-agents-at-annual-build-conference-160023408.html', 'source': 'Yahoo Finance', 'source_logo': 'https://serpapi.com/searches/682c3dde532a17d879303a55/images/d1ef12f2ce7dc352976ef2c8283ccb2d314525e7391503b4770c5fca9bbc7ce1.png', 'date': '17 hours ago', 'thumbnail': 'https://serpapi.com/searches/682c3dde532a17d879303a55/images/d1ef12f2ce7dc35237796e27d552f9f5bc8806e5f35a53b9.jpeg'}, {'title': 'Meet 4 developers leading the way with AI agents', 'link': 'https://news.microsoft.com/source/features/ai/meet-4-developers-leading-the-way-with-ai-agents/', 'source': 'Microsoft', 'source_logo': 'https://serpapi.com/searches/682c3dde532a17d879303a55/images/d1ef12f2ce7dc352ea6efc4c0c02a1a2a202ba0843fcb0e15302d06be65fa724.png', 'date': '16 hours ago', 'thumbnail': 'https://serpapi.com/searches/682c3dde532a17d879303a55/images/d1ef12f2ce7dc35255e808d2bc8d96a01b4af220fc914b21.jpeg'}, {'title': 'Microsoft Build 2025: The age of AI agents and building the open agentic web', 'link': 'https://blogs.microsoft.com/blog/2025/05/19/microsoft-build-2025-the-age-of-ai-agents-and-building-the-open-agentic-web/', 'source': 'The Official Microsoft Blog', 'source_logo': 'https://serpapi.com/searches/682c3dde532a17d879303a55/images/d1ef12f2ce7dc35264910941b220e1e989ee60da5a24e5e195cce547a0b3079c.png', 'date': '15 hours ago', 'thumbnail': 'https://serpapi.com/searches/682c3dde532a17d879303a55/images/d1ef12f2ce7dc352b5ff007fb4406386ceb95c739f2ac626.jpeg'}, {'title': 'Demystifying AI Agents in 2025: Separating Hype From Reality and Navigating Market Outlook', 'link': 'https://www.alvarezandmarsal.com/thought-leadership/demystifying-ai-agents-in-2025-separating-hype-from-reality-and-navigating-market-outlook', 'source': 'Alvarez & Marsal', 'source_logo': 'https://serpapi.com/searches/682c3dde532a17d879303a55/images/d1ef12f2ce7dc352d7f9992dd2cfcdd16481907725a8fa71de538ab5b0cf6a4a.png', 'date': '6 days ago'}]\u001b[0m\u001b[32;1m\u001b[1;3m 많은 관련 정보를 찾을 수 있습니다.\n",
            "Final Answer: 최근 인공 지능 에이전트의 개발과 연구에는 다양한 발전이 있었으며, 이는 다양한 산업에 적용될 수 있는 기술을 포함하고 있습니다. 마이크로소프트사의 빌드 컨퍼런스를 비롯해 다양한 기업들이 AI 에이전트를 중심으로 발표하고 있으며, 미래에는 인공 지능 에이전트가 많은 분야에서 인간의 역할을 대체할 수 있을 것으로 예상됩니다.\u001b[0m\n",
            "\n",
            "\u001b[1m> Finished chain.\u001b[0m\n"
          ]
        },
        {
          "output_type": "execute_result",
          "data": {
            "text/plain": [
              "{'input': '현재 인공 지능 에이전트의 최신 연구 진전은 무엇입니까?',\n",
              " 'output': '최근 인공 지능 에이전트의 개발과 연구에는 다양한 발전이 있었으며, 이는 다양한 산업에 적용될 수 있는 기술을 포함하고 있습니다. 마이크로소프트사의 빌드 컨퍼런스를 비롯해 다양한 기업들이 AI 에이전트를 중심으로 발표하고 있으며, 미래에는 인공 지능 에이전트가 많은 분야에서 인간의 역할을 대체할 수 있을 것으로 예상됩니다.'}"
            ]
          },
          "metadata": {},
          "execution_count": 16
        }
      ],
      "source": [
        "# AgentExecutor를 호출하여 입력 데이터 전달\n",
        "print(\"첫 번째 실행 결과:\")\n",
        "agent_executor.invoke({\"input\": \"현재 인공 지능 에이전트의 최신 연구 진전은 무엇입니까?\"})"
      ]
    },
    {
      "cell_type": "markdown",
      "id": "cfb34656",
      "metadata": {
        "id": "cfb34656"
      },
      "source": [
        "질문을 입력하면 에이전트가 실행되어 **필요시 검색 도구를 사용하고, 최종 답변을 생성**한다."
      ]
    },
    {
      "cell_type": "markdown",
      "id": "16647a61",
      "metadata": {
        "id": "16647a61"
      },
      "source": [
        "### 두번 호출하는 이유?"
      ]
    },
    {
      "cell_type": "code",
      "execution_count": 17,
      "id": "c5235b01",
      "metadata": {
        "colab": {
          "base_uri": "https://localhost:8080/"
        },
        "id": "c5235b01",
        "outputId": "1bb25fc8-6849-4616-9b02-6b7b09e68204"
      },
      "outputs": [
        {
          "output_type": "stream",
          "name": "stdout",
          "text": [
            "두 번째 실행 결과:\n",
            "\n",
            "\n",
            "\u001b[1m> Entering new AgentExecutor chain...\u001b[0m\n",
            "\u001b[32;1m\u001b[1;3m 최신 연구를 살펴보고 무엇을 찾을지 고민해야합니다.\n",
            "Action: Search\n",
            "Action Input: '인공 지능 에이전트 최신 연구'\u001b[0m\u001b[36;1m\u001b[1;3m['KDB미래전략연구소는 AI 에이전트 개발 동향 및 국내 경쟁력을 분석한 보고서를 발표하였다. - 가트너를 비롯한 주요 시장조사기관들은 2025년 가장 ...', 'AI 에이전트는 단순한 질문 대답 시스템이 아닌, 사용자의 의도를 이해하고 목표를 달성하기 위한 종합적인 솔루션입니다. 첫 번째로, 의도 인식(intent ...', 'AI 에이전트(AI Agent)는 생성형 AI 진화의 최신 단계로, 인간의 행동을 모방하고 자율적으로 작업을 수행할 수 있는 기술을 의미합니다. AI로봇 ...', 'AI 에이전트의 유용한 10가지 사례 연구 · 1. 웨이버 그룹의 리드 생성 봇 · 2. 루비랩스의 고객 서비스 봇 · 3. Botpress 경쟁 인텔리전스 봇 · 4. Pinterest ...', 'LLM을 탑재한 AI 에이전트는 여러 가지 툴과 로직들을 활용해 훈련 데이터(training data)에 없는 정보를 외부 시스템이나 툴을 통해 얻을 수 있으며, ...', '사람을 대신해 미션을 해결해주거나 주요 과업을 자동화하여 돕는 AI. 사용자와의 의사소통을 통해 의도를 정확히 파악하고 원하는 결과를 만들어 ...', '- AI 에이전트는 정해진 목표를 달성하기 위해 상황을 파악하고, 워크플로우를 계획하며, 외부 데이터와 분석 도구를 활용해 자율적으로 작업을 수행하는 ...', '단순한 명령 수행이나 챗봇 기능을 넘어, 사용자 목표를 인식하고 계획을 수립한 뒤 도구를 활용해 과업을 수행하는 능동형 주체로 진화하고 있다는 것이 ...', \"'AI 에이전트'는 사용자의 의도를 파악하고 주어진 문제를 자율적으로 해결할 수 있는 인공지능 시스템입니다. 영화 아이언맨에 등장하는 인공지능 비서 ' ...\", \"구글은 'AI 공동 과학자'의 성능을 검증하기 위해 세 가지 실험을 했다. 그중 하나가 임피리얼 칼리지 런던 연구진의 항생제 내성 수퍼박테리아 연구다.\"]\u001b[0m\u001b[32;1m\u001b[1;3m검색 결과를 통해 최신 연구 진전에 대한 정보를 얻을 수 있습니다.\n",
            "Action: Search\n",
            "Action Input: '인공 지능 에이전트 최신 연구 진전'\u001b[0m\u001b[36;1m\u001b[1;3m['가장 최근의 진전은 자율 에이전트(autonomous agent)입니다. 자율 에이전트는 환경을 인식하고 결정을 내리며, 특정 목표를 달성하기 위해 행동을 ...', '또한, AI Agent와 RAG의 결합은 향후 AI 기술의 중요한 진전을 이끌 것으로 예상됩니다. 특히, 사용자 인터페이스(UI)와 사용자 경험(UX)의 측면에서도 ...', '가장 최근의 진전은 자율 에이전트(autonomous agent)다. 자율 에이전트는 환경을 인식하고 결정을 내리며, 특정 목표를 달성하기 위해 행동을 취할 ...', '기초 모델은 인간의 지식을 습득하는 데 뛰어나지만, 종종 역동적인 실제 환경에서 의사 결정에 어려움을 겪어 인공 일반 지능으로의 진전이 제한된다.', 'AI를 통한 과학 연구의 새로운 진전. 과학 연구를 가속화하기 위한 AI 에이전트 기반 플랫폼 마이크로소프트 디스커버리(Microsoft Discovery)도 선보였다 ...', \"구글은 'AI 공동 과학자'의 성능을 검증하기 위해 세 가지 실험을 했다. 그중 하나가 임피리얼 칼리지 런던 연구진의 항생제 내성 수퍼박테리아 연구다.\", \"놓치면 후회할 AI 혁신의 숨은 승자 'AI 에이전트 출시' 주가 급등 예고!ㅣ오예진의 미국주식 외신톡! 325 views · 1 day ago #배당주 #시진핑 #배당 ...\", \"OpenAI는 Humanity's Last Exam 벤치마크에서 25% 이상의 정확도를 자랑하는 딥러닝 에이전트를 선보였고, DeepSeek은 사고의 사슬 추론을 활용하는 ...\", \"오픈AI가 생성형 인공지능(AI) 서비스 '챗GPT'부터 사람이 할 일을 대신해주는 'AI 에이전트'까지 AI 서비스를 다각화하고 있다. 오픈AI는 기업· ...\", '심층 연구가 유망한 진전이기는 하지만 아직은 인간의 연구를 완전히 대체할 수는 없습니다. 적어도 아직은요. AI 조수가 당신을 대신해 연구를 진행 ...']\u001b[0m\u001b[32;1m\u001b[1;3m 다양한 정보를 확인하고 최신 연구 진전에 대해 이해할 수 있습니다.\n",
            "Final Answer: 최신 연구 진전은 자율 에이전트와 AI Agent와 RAG의 결합 등이 있으며, AI 조수가 당신을 대신해 연구를 진행하는 등 AI 서비스도 다각화되고 있음을 알 수 있습니다.\u001b[0m\n",
            "\n",
            "\u001b[1m> Finished chain.\u001b[0m\n"
          ]
        },
        {
          "output_type": "execute_result",
          "data": {
            "text/plain": [
              "{'input': '현재 인공 지능 에이전트의 최신 연구 진전은 무엇입니까?',\n",
              " 'output': '최신 연구 진전은 자율 에이전트와 AI Agent와 RAG의 결합 등이 있으며, AI 조수가 당신을 대신해 연구를 진행하는 등 AI 서비스도 다각화되고 있음을 알 수 있습니다.'}"
            ]
          },
          "metadata": {},
          "execution_count": 17
        }
      ],
      "source": [
        "print(\"두 번째 실행 결과:\")\n",
        "agent_executor.invoke({\"input\": \"현재 인공 지능 에이전트의 최신 연구 진전은 무엇입니까?\"})"
      ]
    },
    {
      "cell_type": "markdown",
      "id": "64f9887a",
      "metadata": {
        "id": "64f9887a"
      },
      "source": [
        "같은 질문을 두 번 실행하는 건:\n",
        "\n",
        "- 에이전트가 매번 다른 reasoning path(추론 경로) 를 택하는지 확인하려는 테스트일 수 있다.\n",
        "- 검색 결과나 응답에 변동성이 있는지 보는 용도"
      ]
    },
    {
      "cell_type": "markdown",
      "id": "59b3aa7e",
      "metadata": {
        "id": "59b3aa7e"
      },
      "source": [
        "### 요약\n",
        "이 코드는 다음을 구현한다:\n",
        "\n",
        "> \"GPT가 인터넷 검색을 사용해서 질문에 답하는 ReAct 기반 AI 에이전트\"\n",
        "\n",
        "- 생각하고\n",
        "- 필요하면 도구(Search)를 사용하고\n",
        "- 최종 답변을 생성함"
      ]
    }
  ],
  "metadata": {
    "kernelspec": {
      "display_name": "base",
      "language": "python",
      "name": "python3"
    },
    "language_info": {
      "name": "python",
      "version": "3.9.12"
    },
    "colab": {
      "provenance": []
    }
  },
  "nbformat": 4,
  "nbformat_minor": 5
}