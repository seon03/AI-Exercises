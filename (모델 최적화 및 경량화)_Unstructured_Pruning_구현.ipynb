{
  "nbformat": 4,
  "nbformat_minor": 0,
  "metadata": {
    "colab": {
      "provenance": [],
      "gpuType": "T4",
      "include_colab_link": true
    },
    "kernelspec": {
      "name": "python3",
      "display_name": "Python 3"
    },
    "language_info": {
      "name": "python"
    },
    "accelerator": "GPU"
  },
  "cells": [
    {
      "cell_type": "markdown",
      "metadata": {
        "id": "view-in-github",
        "colab_type": "text"
      },
      "source": [
        "<a href=\"https://colab.research.google.com/github/seon03/ArtificialIntelligence/blob/main/(%EB%AA%A8%EB%8D%B8%20%EC%B5%9C%EC%A0%81%ED%99%94%20%EB%B0%8F%20%EA%B2%BD%EB%9F%89%ED%99%94)_Unstructured_Pruning_%E1%84%80%E1%85%AE%E1%84%92%E1%85%A7%E1%86%AB.ipynb\" target=\"_parent\"><img src=\"https://colab.research.google.com/assets/colab-badge.svg\" alt=\"Open In Colab\"/></a>"
      ]
    },
    {
      "cell_type": "markdown",
      "source": [
        "# (기본-1) Unstructured Pruning 구현\n",
        "\n",
        "아래 설명과 코드를 쭉 읽어보면서 실제로 2강에서 배운 unstructured pruning을 수행하는 과정을 익혀봅시다.\n",
        "\n",
        "그 후, 직접 사용해서 모델을 경량화를 해보겠습니다.\n",
        "\n",
        "`TODO`라고 적혀있는곳을 모두 채워 넣는 것이 이 과제의 목표입니다.\n",
        "\n",
        "## 목표\n",
        "\n",
        "* 간단한 MLP 모델 구현 및 학습\n",
        "* 중간 레이어 하나를 대상으로 unstructured pruning 구현\n",
        "\n",
        "## 기본사항\n",
        "\n",
        "* 데이터셋:\n",
        "  * 좌표 점에 대한 이진 분류 가상 데이터\n",
        "  * MNIST\n",
        "* 기반 모델: MLP\n",
        "* pruning 수행 방식: 중간 레이어에 대한 unstructured pruning"
      ],
      "metadata": {
        "id": "U4eer_j0we0R"
      }
    },
    {
      "cell_type": "markdown",
      "source": [
        "---"
      ],
      "metadata": {
        "id": "Krz-HGh6xXzK"
      }
    },
    {
      "cell_type": "markdown",
      "source": [
        "## 준비"
      ],
      "metadata": {
        "id": "C4KpFYz2xada"
      }
    },
    {
      "cell_type": "markdown",
      "source": [
        "### 작동 기준 라이브러리 버전\n",
        "\n",
        "```\n",
        "torch==2.4.0\n",
        "torchvision==0.19.0\n",
        "```"
      ],
      "metadata": {
        "id": "POJFLGyLxb2J"
      }
    },
    {
      "cell_type": "markdown",
      "source": [
        "---"
      ],
      "metadata": {
        "id": "E3gr3qYr2Iby"
      }
    },
    {
      "cell_type": "markdown",
      "source": [
        "# Case 1: 간단한 pruning 예시\n",
        "\n",
        "직접 생성한 작은 데이터셋에서, 작은 모델을 만들어서 unstructured pruning을 수행하는 예시를 먼저 살펴봅시다."
      ],
      "metadata": {
        "id": "VuOAEdrG2F6h"
      }
    },
    {
      "cell_type": "markdown",
      "source": [
        "## 데이터 생성"
      ],
      "metadata": {
        "id": "bECkVftgzTqM"
      }
    },
    {
      "cell_type": "code",
      "source": [
        "# 데이터 생성용 라이브러리들입니다.\n",
        "import numpy as np\n",
        "import pandas as pd\n",
        "import matplotlib.pyplot as plt"
      ],
      "metadata": {
        "id": "lS5ZgacBIQPd"
      },
      "execution_count": null,
      "outputs": []
    },
    {
      "cell_type": "code",
      "source": [
        "# 데이터 생성기\n",
        "def generate_data(num_samples, turbulance=0.1):\n",
        "    data = []\n",
        "    num0 = 0\n",
        "    num1 = 0\n",
        "    while len(data) < num_samples:\n",
        "\n",
        "        # [-2, 2)에서 랜덤한 좌표값 샘플\n",
        "        x = 4 * np.random.random() - 2\n",
        "        y = 4 * np.random.random() - 2\n",
        "\n",
        "        # 중심이 (0, 0)이고 반지름 1 미만의 원 안에 있는 점이면 0, 밖에 있으면 1로 분류\n",
        "        error = turbulance * (np.random.random() - 0.5)  # 학습 데이터는 오류를 가정\n",
        "        if x * x + y * y < 1 + error:\n",
        "            if num0 < num_samples // 2:\n",
        "                c = 0\n",
        "                num0 += 1\n",
        "            else:\n",
        "                continue\n",
        "        else:\n",
        "            if num1 < num_samples // 2:\n",
        "                c = 1\n",
        "                num1 += 1\n",
        "            else:\n",
        "                continue\n",
        "\n",
        "        data.append((x, y, c))\n",
        "    return data"
      ],
      "metadata": {
        "id": "uuknRaJVyKqL"
      },
      "execution_count": null,
      "outputs": []
    },
    {
      "cell_type": "code",
      "source": [
        "# 학습용 데이터\n",
        "np.random.seed(42)\n",
        "train_data = generate_data(num_samples=1000, turbulance=0.1)"
      ],
      "metadata": {
        "id": "hD2GAxO4IRqk"
      },
      "execution_count": null,
      "outputs": []
    },
    {
      "cell_type": "code",
      "source": [
        "# 테스트용 데이터\n",
        "np.random.seed(4242)\n",
        "test_data = generate_data(num_samples=100, turbulance=0)"
      ],
      "metadata": {
        "id": "y5-2jWt2KJJQ"
      },
      "execution_count": null,
      "outputs": []
    },
    {
      "cell_type": "code",
      "source": [
        "# 실제로 생성된 데이터를 시각화 해봅시다\n",
        "\n",
        "# DataFrame으로 만들고\n",
        "df = pd.DataFrame(train_data, columns=['x', 'y', 'c'])\n",
        "\n",
        "# class가 0, 1인 row들을 각각 가져와서\n",
        "df0 = df[df['c'] == 0]\n",
        "df1 = df[df['c'] == 1]\n",
        "\n",
        "# 색상을 달리 해서 뿌리기\n",
        "plt.scatter(df0['x'], df0['y'], color='skyblue', label='class 0')\n",
        "plt.scatter(df1['x'], df1['y'], color='brown', label='class 1')\n",
        "\n",
        "# 그래프 옵션 설정\n",
        "plt.xlabel('x')\n",
        "plt.ylabel('y')\n",
        "plt.legend()\n",
        "\n",
        "# 출력\n",
        "plt.show()"
      ],
      "metadata": {
        "colab": {
          "base_uri": "https://localhost:8080/"
        },
        "id": "VtieHX6iImD2",
        "outputId": "cd481ac4-2173-4b7b-db14-4e682b68418b"
      },
      "execution_count": null,
      "outputs": [
        {
          "output_type": "display_data",
          "data": {
            "text/plain": [
              "<Figure size 640x480 with 1 Axes>"
            ],
            "image/png": "[encoded data removed]"
          },
          "metadata": {}
        }
      ]
    },
    {
      "cell_type": "markdown",
      "source": [
        "## 모델"
      ],
      "metadata": {
        "id": "MLXpkUF7zYAl"
      }
    },
    {
      "cell_type": "code",
      "execution_count": null,
      "metadata": {
        "id": "iXAHawL0GDqv"
      },
      "outputs": [],
      "source": [
        "# 딥러닝용 라이브러리도 import 합니다.\n",
        "import torch\n",
        "import torch.nn as nn\n",
        "import torch.optim as optim\n",
        "import torch.nn.utils.prune as prune"
      ]
    },
    {
      "cell_type": "code",
      "source": [
        "# 항상 같은 결과가 나오도록 고정해주는 친구입니다. 지금은 무시하셔도 됩니다.\n",
        "torch.backends.cudnn.deterministic = True\n",
        "torch.backends.cudnn.benchmark = False"
      ],
      "metadata": {
        "id": "BSDFkqBBpp2y"
      },
      "execution_count": null,
      "outputs": []
    },
    {
      "cell_type": "code",
      "source": [
        "device = torch.device('cuda' if torch.cuda.is_available() else 'cpu')\n",
        "print(device)"
      ],
      "metadata": {
        "colab": {
          "base_uri": "https://localhost:8080/"
        },
        "id": "_T_I3J703V59",
        "outputId": "e3a8b108-e149-45ac-9566-d90e7c897172"
      },
      "execution_count": null,
      "outputs": [
        {
          "output_type": "stream",
          "name": "stdout",
          "text": [
            "cuda\n"
          ]
        }
      ]
    },
    {
      "cell_type": "code",
      "source": [
        "# 좌표를 받아서 두 클래스로 분류해주는 2-layer MLP 모델\n",
        "class Model(nn.Module):\n",
        "    def __init__(self):\n",
        "        super(Model, self).__init__()\n",
        "        self.fc1 = nn.Linear(2, 10)\n",
        "        self.fc2 = nn.Linear(10, 2)\n",
        "\n",
        "    def forward(self, x):\n",
        "        x = self.fc1(x)\n",
        "        x = torch.relu(x)\n",
        "        x = self.fc2(x)\n",
        "        return x"
      ],
      "metadata": {
        "id": "Ff2RoujrGRSE"
      },
      "execution_count": null,
      "outputs": []
    },
    {
      "cell_type": "markdown",
      "source": [
        "## 학습"
      ],
      "metadata": {
        "id": "Tth19GcP2gTN"
      }
    },
    {
      "cell_type": "code",
      "source": [
        "# 모델 학습 함수\n",
        "def train(model, data, device):\n",
        "    ce_losser = nn.CrossEntropyLoss()\n",
        "    optimizer = optim.Adam(model.parameters(), lr=0.001)\n",
        "    model.to(device)\n",
        "    model.train()\n",
        "    for epoch in range(10):\n",
        "        running_loss = 0.0\n",
        "        for x, y, c in iter(data):\n",
        "            inputs = torch.tensor([x, y]).to(device)\n",
        "            labels = torch.tensor(c).to(device)\n",
        "            optimizer.zero_grad()\n",
        "            logits = model(inputs)\n",
        "            loss = ce_losser(logits, labels)\n",
        "            loss.backward()\n",
        "            optimizer.step()\n",
        "            running_loss += loss.item()\n",
        "        print(f'[Epoch {epoch + 1:2d}] Loss: {running_loss / len(train_data):8.5f}')"
      ],
      "metadata": {
        "id": "LhtSpi5LH3UG"
      },
      "execution_count": null,
      "outputs": []
    },
    {
      "cell_type": "code",
      "source": [
        "# 테스트 함수\n",
        "def test(model, data, device):\n",
        "    model.to(device)\n",
        "    model.eval()\n",
        "    correct = 0\n",
        "    total = 0\n",
        "    with torch.no_grad():\n",
        "        for x, y, c in iter(data):\n",
        "            inputs = torch.tensor([x, y]).to(device)\n",
        "            labels = torch.tensor(c).to(device)\n",
        "            logits = model(inputs)\n",
        "            _, predicted = torch.max(logits.data, 0)\n",
        "            total += 1\n",
        "            correct += (predicted == labels).sum().item()\n",
        "    accuracy = 100 * correct / total\n",
        "    print(f'Accuracy: {accuracy:5.2f}%')"
      ],
      "metadata": {
        "id": "bSNfCTNRLB6U"
      },
      "execution_count": null,
      "outputs": []
    },
    {
      "cell_type": "code",
      "source": [
        "# 모델 인스턴스 생성 및 학습\n",
        "torch.manual_seed(42)\n",
        "model = Model()\n",
        "train(model, train_data, device)"
      ],
      "metadata": {
        "id": "2Re5Cudwz9AC",
        "colab": {
          "base_uri": "https://localhost:8080/"
        },
        "outputId": "d4b82ac5-55d7-44c9-9632-ed37ab4a9aea"
      },
      "execution_count": null,
      "outputs": [
        {
          "output_type": "stream",
          "name": "stdout",
          "text": [
            "[Epoch  1] Loss:  0.58154\n",
            "[Epoch  2] Loss:  0.51865\n",
            "[Epoch  3] Loss:  0.42586\n",
            "[Epoch  4] Loss:  0.33426\n",
            "[Epoch  5] Loss:  0.27084\n",
            "[Epoch  6] Loss:  0.22679\n",
            "[Epoch  7] Loss:  0.19240\n",
            "[Epoch  8] Loss:  0.16873\n",
            "[Epoch  9] Loss:  0.15043\n",
            "[Epoch 10] Loss:  0.13655\n"
          ]
        }
      ]
    },
    {
      "cell_type": "code",
      "source": [
        "# 성능 평가\n",
        "test(model, test_data, device)"
      ],
      "metadata": {
        "colab": {
          "base_uri": "https://localhost:8080/"
        },
        "id": "3gPS7Ot6MMXQ",
        "outputId": "e55e140d-cd60-4697-ba80-04ec72bacf16"
      },
      "execution_count": null,
      "outputs": [
        {
          "output_type": "stream",
          "name": "stdout",
          "text": [
            "Accuracy: 91.00%\n"
          ]
        }
      ]
    },
    {
      "cell_type": "code",
      "source": [
        "# 전체 파라미터 수\n",
        "total_params = sum(p.numel() for p in model.parameters())\n",
        "\n",
        "# 0이 아닌 파라미터의 수\n",
        "total_params_nz = sum((p != 0.0).sum() for p in model.parameters())\n",
        "\n",
        "# 0이 아닌 파라미터의 비율\n",
        "print(f\"non-zero portion: {100 * total_params_nz / total_params:6.02f}%\")"
      ],
      "metadata": {
        "id": "JRGD7SMJ0NRH",
        "colab": {
          "base_uri": "https://localhost:8080/"
        },
        "outputId": "354acdd1-3d3b-4258-b787-8ca524fe5a0e"
      },
      "execution_count": null,
      "outputs": [
        {
          "output_type": "stream",
          "name": "stdout",
          "text": [
            "non-zero portion: 100.00%\n"
          ]
        }
      ]
    },
    {
      "cell_type": "markdown",
      "source": [
        "## Random Pruning"
      ],
      "metadata": {
        "id": "D8MBWQd-0HJC"
      }
    },
    {
      "cell_type": "code",
      "source": [
        "# 이 데이터셋에 비해서 모델이 너무 복잡하니까 pruning을 해줍시다.\n",
        "# pruning 대상은 첫번째 레이어(fc1)입니다.\n",
        "layer = model.fc1\n",
        "layer.weight  # 학습된 파라미터값 확인 (fc1의 세부 파라미터 'weight'과 'bias' 중 'weight'만 대상)"
      ],
      "metadata": {
        "colab": {
          "base_uri": "https://localhost:8080/"
        },
        "id": "hrriy6rQLnXH",
        "outputId": "0b460057-ccba-4de4-d339-86f20d9c14a0"
      },
      "execution_count": null,
      "outputs": [
        {
          "output_type": "execute_result",
          "data": {
            "text/plain": [
              "Parameter containing:\n",
              "tensor([[ 0.4882,  1.2030],\n",
              "        [-0.6999,  1.0665],\n",
              "        [-0.0888,  0.0814],\n",
              "        [-1.5433, -0.2316],\n",
              "        [ 0.0636, -1.4266],\n",
              "        [ 0.9359, -0.1400],\n",
              "        [ 0.8849,  0.2421],\n",
              "        [ 0.5310, -0.3317],\n",
              "        [ 0.8150, -0.1400],\n",
              "        [-0.2739,  0.1223]], device='cuda:0', requires_grad=True)"
            ]
          },
          "metadata": {},
          "execution_count": 15
        }
      ]
    },
    {
      "cell_type": "code",
      "source": [
        "# PyTorch의 prune 라이브러리를 사용해서 대상 layer에서 랜덤하게 50%의 파라미터를 제거\n",
        "torch.manual_seed(42)\n",
        "prune.random_unstructured(layer, name='weight', amount=0.5)\n",
        "layer.weight  # 제거된(0으로 바뀐) 파라미터 확인"
      ],
      "metadata": {
        "colab": {
          "base_uri": "https://localhost:8080/"
        },
        "id": "WK9W7rc9L6TH",
        "outputId": "aa9c62df-a416-4bea-a8d8-3db4230d5353"
      },
      "execution_count": null,
      "outputs": [
        {
          "output_type": "execute_result",
          "data": {
            "text/plain": [
              "tensor([[ 0.0000,  1.2030],\n",
              "        [-0.0000,  1.0665],\n",
              "        [-0.0888,  0.0000],\n",
              "        [-0.0000, -0.0000],\n",
              "        [ 0.0000, -1.4266],\n",
              "        [ 0.9359, -0.0000],\n",
              "        [ 0.0000,  0.2421],\n",
              "        [ 0.5310, -0.3317],\n",
              "        [ 0.0000, -0.1400],\n",
              "        [-0.0000,  0.1223]], device='cuda:0', grad_fn=<MulBackward0>)"
            ]
          },
          "metadata": {},
          "execution_count": 16
        }
      ]
    },
    {
      "cell_type": "code",
      "source": [
        "# pruning 직후의 성능 측정\n",
        "test(model, test_data, device)"
      ],
      "metadata": {
        "colab": {
          "base_uri": "https://localhost:8080/"
        },
        "id": "iE2_m7mUMHb8",
        "outputId": "fb718c19-3bbc-4743-c433-6e4ce956e2ad"
      },
      "execution_count": null,
      "outputs": [
        {
          "output_type": "stream",
          "name": "stdout",
          "text": [
            "Accuracy: 72.00%\n"
          ]
        }
      ]
    },
    {
      "cell_type": "code",
      "source": [
        "# 다시 학습 데이터에 fine-tuning\n",
        "train(model, train_data, device)"
      ],
      "metadata": {
        "colab": {
          "base_uri": "https://localhost:8080/"
        },
        "id": "nOKQ9JkYMJqs",
        "outputId": "8de6eb83-b12e-4143-b5cf-c2e8f70888d7"
      },
      "execution_count": null,
      "outputs": [
        {
          "output_type": "stream",
          "name": "stdout",
          "text": [
            "[Epoch  1] Loss:  0.36546\n",
            "[Epoch  2] Loss:  0.29979\n",
            "[Epoch  3] Loss:  0.29149\n",
            "[Epoch  4] Loss:  0.28824\n",
            "[Epoch  5] Loss:  0.28603\n",
            "[Epoch  6] Loss:  0.28429\n",
            "[Epoch  7] Loss:  0.28301\n",
            "[Epoch  8] Loss:  0.28195\n",
            "[Epoch  9] Loss:  0.28115\n",
            "[Epoch 10] Loss:  0.28049\n"
          ]
        }
      ]
    },
    {
      "cell_type": "code",
      "source": [
        "# fine-tuning 이후의 성능 테스트\n",
        "test(model, test_data, device)"
      ],
      "metadata": {
        "colab": {
          "base_uri": "https://localhost:8080/"
        },
        "id": "43bE21XzMSve",
        "outputId": "e83a8fa4-6ee4-45a3-f70d-688200d6b6e4"
      },
      "execution_count": null,
      "outputs": [
        {
          "output_type": "stream",
          "name": "stdout",
          "text": [
            "Accuracy: 90.00%\n"
          ]
        }
      ]
    },
    {
      "cell_type": "code",
      "source": [
        "# 제거된 파라미터가 여전히 0인지 확인\n",
        "layer.weight"
      ],
      "metadata": {
        "colab": {
          "base_uri": "https://localhost:8080/"
        },
        "id": "DqSoFZwOMXe7",
        "outputId": "d36c2276-e988-4c14-9e6a-6818dafda08b"
      },
      "execution_count": null,
      "outputs": [
        {
          "output_type": "execute_result",
          "data": {
            "text/plain": [
              "tensor([[ 0.0000,  1.2630],\n",
              "        [-0.0000,  1.1218],\n",
              "        [-0.0888,  0.0000],\n",
              "        [-0.0000, -0.0000],\n",
              "        [ 0.0000, -1.5432],\n",
              "        [ 1.1556, -0.0000],\n",
              "        [ 0.0000,  0.2421],\n",
              "        [ 0.8259, -0.1079],\n",
              "        [ 0.0000, -0.1400],\n",
              "        [-0.0000,  0.1223]], device='cuda:0')"
            ]
          },
          "metadata": {},
          "execution_count": 20
        }
      ]
    },
    {
      "cell_type": "code",
      "source": [
        "# pruning 결과를 실제로 반영 (PyTorch의 구현 방식상 필요)\n",
        "prune.remove(layer, 'weight')"
      ],
      "metadata": {
        "colab": {
          "base_uri": "https://localhost:8080/"
        },
        "collapsed": true,
        "id": "o2vfm6-jykYc",
        "outputId": "261c3471-facb-436a-a317-cb11668c9b7d"
      },
      "execution_count": null,
      "outputs": [
        {
          "output_type": "execute_result",
          "data": {
            "text/plain": [
              "Linear(in_features=2, out_features=10, bias=True)"
            ]
          },
          "metadata": {},
          "execution_count": 21
        }
      ]
    },
    {
      "cell_type": "code",
      "source": [
        "# 0이 아닌 파라미터의 비율\n",
        "total_params = sum(p.numel() for p in model.parameters())\n",
        "total_params_nz = sum((p != 0.0).sum() for p in model.parameters())\n",
        "print(f\"non-zero portion: {100 * total_params_nz / total_params:5.02f}%\")"
      ],
      "metadata": {
        "id": "MPJskWFkQhtY",
        "colab": {
          "base_uri": "https://localhost:8080/"
        },
        "outputId": "cf89c697-d1f3-47d1-8ff4-4101caceda8d"
      },
      "execution_count": null,
      "outputs": [
        {
          "output_type": "stream",
          "name": "stdout",
          "text": [
            "non-zero portion: 80.77%\n"
          ]
        }
      ]
    },
    {
      "cell_type": "code",
      "source": [
        "# 레이어별로 살펴보기\n",
        "for name, p in model.named_parameters():\n",
        "    num_params = p.numel()\n",
        "    num_params_nz = int((p != 0.0).sum())\n",
        "    print(f\"{name}\\t{num_params_nz:2d}/{num_params:2d}\")"
      ],
      "metadata": {
        "colab": {
          "base_uri": "https://localhost:8080/"
        },
        "id": "a6vutHEBtwir",
        "outputId": "7540e679-acfa-4bb2-c752-65f976057b4d"
      },
      "execution_count": null,
      "outputs": [
        {
          "output_type": "stream",
          "name": "stdout",
          "text": [
            "fc1.bias\t10/10\n",
            "fc1.weight\t10/20\n",
            "fc2.weight\t20/20\n",
            "fc2.bias\t 2/ 2\n"
          ]
        }
      ]
    },
    {
      "cell_type": "markdown",
      "source": [
        "## Magnitude Pruning (1)"
      ],
      "metadata": {
        "id": "7S330iQgvkAX"
      }
    },
    {
      "cell_type": "code",
      "source": [
        "# 다른 방법으로 pruning을 해보기 위해 모델을 다시 준비합시다.\n",
        "torch.manual_seed(42)\n",
        "model = Model()\n",
        "train(model, train_data, device)\n",
        "test(model, test_data, device)"
      ],
      "metadata": {
        "id": "fpgneg3x42Gq",
        "colab": {
          "base_uri": "https://localhost:8080/"
        },
        "outputId": "a29581a1-6f0d-4629-c92c-53e8a043ea08"
      },
      "execution_count": null,
      "outputs": [
        {
          "output_type": "stream",
          "name": "stdout",
          "text": [
            "[Epoch  1] Loss:  0.58154\n",
            "[Epoch  2] Loss:  0.51865\n",
            "[Epoch  3] Loss:  0.42586\n",
            "[Epoch  4] Loss:  0.33426\n",
            "[Epoch  5] Loss:  0.27084\n",
            "[Epoch  6] Loss:  0.22679\n",
            "[Epoch  7] Loss:  0.19240\n",
            "[Epoch  8] Loss:  0.16873\n",
            "[Epoch  9] Loss:  0.15043\n",
            "[Epoch 10] Loss:  0.13655\n",
            "Accuracy: 91.00%\n"
          ]
        }
      ]
    },
    {
      "cell_type": "code",
      "source": [
        "# 이번엔 랜덤하게가 아니라, 파라미터 크기가 작은 순으로 제거\n",
        "layer = model.fc1\n",
        "prune.l1_unstructured(layer, name='weight', amount=0.5)"
      ],
      "metadata": {
        "colab": {
          "base_uri": "https://localhost:8080/"
        },
        "id": "mL36RfEP0Jj8",
        "outputId": "10b82460-a5f9-4faf-a77a-9604bf97d69a"
      },
      "execution_count": null,
      "outputs": [
        {
          "output_type": "execute_result",
          "data": {
            "text/plain": [
              "Linear(in_features=2, out_features=10, bias=True)"
            ]
          },
          "metadata": {},
          "execution_count": 25
        }
      ]
    },
    {
      "cell_type": "code",
      "source": [
        "# 제거 직후에 다시 테스트, 성능 저하 거의 없음!\n",
        "test(model, test_data, device)"
      ],
      "metadata": {
        "colab": {
          "base_uri": "https://localhost:8080/"
        },
        "id": "ueOw6dIizIV1",
        "outputId": "be89e4e9-4ec7-423c-b9f3-323f8a625bd2"
      },
      "execution_count": null,
      "outputs": [
        {
          "output_type": "stream",
          "name": "stdout",
          "text": [
            "Accuracy: 91.00%\n"
          ]
        }
      ]
    },
    {
      "cell_type": "code",
      "source": [
        "# 여기서 fine-tuning을 수행\n",
        "train(model, train_data, device)\n",
        "test(model, test_data, device)"
      ],
      "metadata": {
        "colab": {
          "base_uri": "https://localhost:8080/"
        },
        "id": "yMkXRCS4zbxD",
        "outputId": "4ff5892f-b66b-4a10-dbc2-94ae94ea9ba7"
      },
      "execution_count": null,
      "outputs": [
        {
          "output_type": "stream",
          "name": "stdout",
          "text": [
            "[Epoch  1] Loss:  0.13803\n",
            "[Epoch  2] Loss:  0.12350\n",
            "[Epoch  3] Loss:  0.11598\n",
            "[Epoch  4] Loss:  0.10990\n",
            "[Epoch  5] Loss:  0.10462\n",
            "[Epoch  6] Loss:  0.10009\n",
            "[Epoch  7] Loss:  0.09612\n",
            "[Epoch  8] Loss:  0.09265\n",
            "[Epoch  9] Loss:  0.08953\n",
            "[Epoch 10] Loss:  0.08676\n",
            "Accuracy: 93.00%\n"
          ]
        }
      ]
    },
    {
      "cell_type": "code",
      "source": [
        "# 0이 아닌 파라미터의 비율\n",
        "prune.remove(layer, 'weight')\n",
        "total_params = sum(p.numel() for p in model.parameters())\n",
        "total_params_nz = sum((p != 0.0).sum() for p in model.parameters())\n",
        "print(f\"non-zero portion: {100 * total_params_nz / total_params:5.02f}%\")"
      ],
      "metadata": {
        "colab": {
          "base_uri": "https://localhost:8080/"
        },
        "id": "8GW9WLYaziMc",
        "outputId": "7e91d630-7211-444b-a80e-f1c36eec9aa4"
      },
      "execution_count": null,
      "outputs": [
        {
          "output_type": "stream",
          "name": "stdout",
          "text": [
            "non-zero portion: 80.77%\n"
          ]
        }
      ]
    },
    {
      "cell_type": "markdown",
      "source": [
        "## Magnitude Pruning (2)"
      ],
      "metadata": {
        "id": "yW6qAV_tvnUH"
      }
    },
    {
      "cell_type": "code",
      "source": [
        "# 다른 레이어에 대해서 pruning을 해보기 위해 모델을 다시 준비합시다.\n",
        "torch.manual_seed(42)\n",
        "model = Model()\n",
        "train(model, train_data, device)\n",
        "test(model, test_data, device)"
      ],
      "metadata": {
        "colab": {
          "base_uri": "https://localhost:8080/"
        },
        "id": "Ur_N6HYsuhqC",
        "outputId": "7160b162-655c-415e-9e09-c7f010255ed3"
      },
      "execution_count": null,
      "outputs": [
        {
          "output_type": "stream",
          "name": "stdout",
          "text": [
            "[Epoch  1] Loss:  0.58154\n",
            "[Epoch  2] Loss:  0.51865\n",
            "[Epoch  3] Loss:  0.42586\n",
            "[Epoch  4] Loss:  0.33426\n",
            "[Epoch  5] Loss:  0.27084\n",
            "[Epoch  6] Loss:  0.22679\n",
            "[Epoch  7] Loss:  0.19240\n",
            "[Epoch  8] Loss:  0.16873\n",
            "[Epoch  9] Loss:  0.15043\n",
            "[Epoch 10] Loss:  0.13655\n",
            "Accuracy: 91.00%\n"
          ]
        }
      ]
    },
    {
      "cell_type": "code",
      "source": [
        "# 이번엔 fc1.weight가 아니라 fc2.weight를 pruning 할 것입니다.\n",
        "layer = model.fc2\n",
        "prune.l1_unstructured(layer, name='weight', amount=0.5)"
      ],
      "metadata": {
        "colab": {
          "base_uri": "https://localhost:8080/"
        },
        "id": "6nb79Axiulg8",
        "outputId": "111b724e-e8b7-492f-e830-f616c943bbbd"
      },
      "execution_count": null,
      "outputs": [
        {
          "output_type": "execute_result",
          "data": {
            "text/plain": [
              "Linear(in_features=10, out_features=2, bias=True)"
            ]
          },
          "metadata": {},
          "execution_count": 30
        }
      ]
    },
    {
      "cell_type": "code",
      "source": [
        "# 제거 직후에 다시 테스트\n",
        "test(model, test_data, device)"
      ],
      "metadata": {
        "colab": {
          "base_uri": "https://localhost:8080/"
        },
        "id": "VApHmf_CuugB",
        "outputId": "1b07babe-f0fa-41c0-8314-df738661e7f2"
      },
      "execution_count": null,
      "outputs": [
        {
          "output_type": "stream",
          "name": "stdout",
          "text": [
            "Accuracy: 82.00%\n"
          ]
        }
      ]
    },
    {
      "cell_type": "code",
      "source": [
        "# 이어서 fine-tuning을 수행\n",
        "train(model, train_data, device)\n",
        "test(model, test_data, device)"
      ],
      "metadata": {
        "colab": {
          "base_uri": "https://localhost:8080/"
        },
        "id": "OT_pKxBXuwk2",
        "outputId": "8505836a-5bc6-4b52-b7e1-02855ccaa534"
      },
      "execution_count": null,
      "outputs": [
        {
          "output_type": "stream",
          "name": "stdout",
          "text": [
            "[Epoch  1] Loss:  0.19062\n",
            "[Epoch  2] Loss:  0.14507\n",
            "[Epoch  3] Loss:  0.13268\n",
            "[Epoch  4] Loss:  0.12412\n",
            "[Epoch  5] Loss:  0.11701\n",
            "[Epoch  6] Loss:  0.11076\n",
            "[Epoch  7] Loss:  0.10550\n",
            "[Epoch  8] Loss:  0.10091\n",
            "[Epoch  9] Loss:  0.09688\n",
            "[Epoch 10] Loss:  0.09340\n",
            "Accuracy: 92.00%\n"
          ]
        }
      ]
    },
    {
      "cell_type": "code",
      "source": [
        "# 0이 아닌 파라미터의 비율\n",
        "prune.remove(layer, 'weight')\n",
        "total_params = sum(p.numel() for p in model.parameters())\n",
        "total_params_nz = sum((p != 0.0).sum() for p in model.parameters())\n",
        "print(f\"non-zero portion: {100 * total_params_nz / total_params:5.02f}%\")"
      ],
      "metadata": {
        "colab": {
          "base_uri": "https://localhost:8080/"
        },
        "id": "aZsAQGd-uxnS",
        "outputId": "d9dcc9d2-44be-491b-8472-733e972f43da"
      },
      "execution_count": null,
      "outputs": [
        {
          "output_type": "stream",
          "name": "stdout",
          "text": [
            "non-zero portion: 80.77%\n"
          ]
        }
      ]
    },
    {
      "cell_type": "markdown",
      "source": [
        "## Magnitude Pruning (3)"
      ],
      "metadata": {
        "id": "J2v95oQ2vwMf"
      }
    },
    {
      "cell_type": "code",
      "source": [
        "# 이번엔 pruning 비율을 달리 해보기 위해 모델을 다시 준비합시다.\n",
        "torch.manual_seed(42)\n",
        "model = Model()\n",
        "train(model, train_data, device)\n",
        "test(model, test_data, device)"
      ],
      "metadata": {
        "colab": {
          "base_uri": "https://localhost:8080/"
        },
        "id": "T6kHqyIovKeD",
        "outputId": "33b17b19-5d47-4c31-955a-b7d4e015a0ed"
      },
      "execution_count": null,
      "outputs": [
        {
          "output_type": "stream",
          "name": "stdout",
          "text": [
            "[Epoch  1] Loss:  0.58154\n",
            "[Epoch  2] Loss:  0.51865\n",
            "[Epoch  3] Loss:  0.42586\n",
            "[Epoch  4] Loss:  0.33426\n",
            "[Epoch  5] Loss:  0.27084\n",
            "[Epoch  6] Loss:  0.22679\n",
            "[Epoch  7] Loss:  0.19240\n",
            "[Epoch  8] Loss:  0.16873\n",
            "[Epoch  9] Loss:  0.15043\n",
            "[Epoch 10] Loss:  0.13655\n",
            "Accuracy: 91.00%\n"
          ]
        }
      ]
    },
    {
      "cell_type": "code",
      "source": [
        "# 이번엔 fc1.weight에서 80%를 제거할 것입니다.\n",
        "layer = model.fc1\n",
        "prune.l1_unstructured(layer, name='weight', amount=0.8)"
      ],
      "metadata": {
        "colab": {
          "base_uri": "https://localhost:8080/"
        },
        "id": "HwzY1sfpvP5A",
        "outputId": "b8efb7f1-3eb9-4ef5-9353-7a82fcd3aff5"
      },
      "execution_count": null,
      "outputs": [
        {
          "output_type": "execute_result",
          "data": {
            "text/plain": [
              "Linear(in_features=2, out_features=10, bias=True)"
            ]
          },
          "metadata": {},
          "execution_count": 35
        }
      ]
    },
    {
      "cell_type": "code",
      "source": [
        "# 제거 직후에 다시 테스트\n",
        "test(model, test_data, device)"
      ],
      "metadata": {
        "colab": {
          "base_uri": "https://localhost:8080/"
        },
        "id": "UhGehYxQvWkP",
        "outputId": "3245da92-eee2-4593-b443-94277d7feee1"
      },
      "execution_count": null,
      "outputs": [
        {
          "output_type": "stream",
          "name": "stdout",
          "text": [
            "Accuracy: 76.00%\n"
          ]
        }
      ]
    },
    {
      "cell_type": "code",
      "source": [
        "# 이어서 fine-tuning을 수행\n",
        "train(model, train_data, device)\n",
        "test(model, test_data, device)"
      ],
      "metadata": {
        "colab": {
          "base_uri": "https://localhost:8080/"
        },
        "id": "X-sN8J-0vdDi",
        "outputId": "5a00a3c9-417f-45aa-e336-ee37ca15bb6b"
      },
      "execution_count": null,
      "outputs": [
        {
          "output_type": "stream",
          "name": "stdout",
          "text": [
            "[Epoch  1] Loss:  0.36777\n",
            "[Epoch  2] Loss:  0.32191\n",
            "[Epoch  3] Loss:  0.31416\n",
            "[Epoch  4] Loss:  0.31049\n",
            "[Epoch  5] Loss:  0.30760\n",
            "[Epoch  6] Loss:  0.30513\n",
            "[Epoch  7] Loss:  0.30321\n",
            "[Epoch  8] Loss:  0.30157\n",
            "[Epoch  9] Loss:  0.29971\n",
            "[Epoch 10] Loss:  0.29821\n",
            "Accuracy: 84.00%\n"
          ]
        }
      ]
    },
    {
      "cell_type": "code",
      "source": [
        "# 0이 아닌 파라미터의 비율\n",
        "prune.remove(layer, 'weight')\n",
        "total_params = sum(p.numel() for p in model.parameters())\n",
        "total_params_nz = sum((p != 0.0).sum() for p in model.parameters())\n",
        "print(f\"non-zero portion: {100 * total_params_nz / total_params:5.02f}%\")"
      ],
      "metadata": {
        "colab": {
          "base_uri": "https://localhost:8080/"
        },
        "id": "nkovayAUve_U",
        "outputId": "19ef27f4-350e-4929-c73b-456aca731a50"
      },
      "execution_count": null,
      "outputs": [
        {
          "output_type": "stream",
          "name": "stdout",
          "text": [
            "non-zero portion: 69.23%\n"
          ]
        }
      ]
    },
    {
      "cell_type": "markdown",
      "source": [
        "---"
      ],
      "metadata": {
        "id": "LAIFm1Q9vUyS"
      }
    },
    {
      "cell_type": "markdown",
      "source": [
        "# Case 2: MNIST\n",
        "\n",
        "이번엔 MNIST 데이터셋에서, 조금 더 큰 모델에 대해 직접 unstructured pruning을 해봅시다."
      ],
      "metadata": {
        "id": "-R-ExFJm15kN"
      }
    },
    {
      "cell_type": "markdown",
      "source": [
        "## MNIST 데이터셋\n",
        "\n",
        "* 개요\n",
        "    * 손으로 쓴 숫자 이미지가 각각 어떤 숫자인지 (0~9) 분류하는 task\n",
        "    * 입력: 28x28 사이즈의 흑백 이미지\n",
        "    * 출력: 0 ~ 9\n",
        "\n",
        "* copyright\n",
        "    * [링크](https://yann.lecun.com/exdb/mnist/) 참고"
      ],
      "metadata": {
        "id": "Ca42CV9mvaY2"
      }
    },
    {
      "cell_type": "markdown",
      "source": [
        "![image.png](data:image/png;base64,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)"
      ],
      "metadata": {
        "id": "F_DNYOFlvtYn"
      }
    },
    {
      "cell_type": "code",
      "source": [
        "# 추가 라이브러리\n",
        "from torch.utils.data import DataLoader\n",
        "from torchvision import transforms\n",
        "from torchvision.datasets import MNIST"
      ],
      "metadata": {
        "id": "wgSAPCJMzP4z"
      },
      "execution_count": null,
      "outputs": []
    },
    {
      "cell_type": "code",
      "source": [
        "# MNIST 데이터셋을 다운받아둡시다.\n",
        "train_dataset = MNIST(root='./data', train=True, download=True, transform=transforms.ToTensor())\n",
        "test_dataset = MNIST(root='./data', train=False, download=True, transform=transforms.ToTensor())"
      ],
      "metadata": {
        "id": "b8P-tkhjzpwD",
        "colab": {
          "base_uri": "https://localhost:8080/"
        },
        "outputId": "016ff9cc-fab1-49c4-99ce-0ea3e51b4116"
      },
      "execution_count": null,
      "outputs": [
        {
          "output_type": "stream",
          "name": "stdout",
          "text": [
            "Downloading http://yann.lecun.com/exdb/mnist/train-images-idx3-ubyte.gz\n",
            "Failed to download (trying next):\n",
            "<urlopen error [SSL: CERTIFICATE_VERIFY_FAILED] certificate verify failed: certificate has expired (_ssl.c:1007)>\n",
            "\n",
            "Downloading https://ossci-datasets.s3.amazonaws.com/mnist/train-images-idx3-ubyte.gz\n",
            "Downloading https://ossci-datasets.s3.amazonaws.com/mnist/train-images-idx3-ubyte.gz to ./data/MNIST/raw/train-images-idx3-ubyte.gz\n"
          ]
        },
        {
          "output_type": "stream",
          "name": "stderr",
          "text": [
            "100%|██████████| 9.91M/9.91M [00:00<00:00, 14.6MB/s]\n"
          ]
        },
        {
          "output_type": "stream",
          "name": "stdout",
          "text": [
            "Extracting ./data/MNIST/raw/train-images-idx3-ubyte.gz to ./data/MNIST/raw\n",
            "\n",
            "Downloading http://yann.lecun.com/exdb/mnist/train-labels-idx1-ubyte.gz\n",
            "Failed to download (trying next):\n",
            "<urlopen error [SSL: CERTIFICATE_VERIFY_FAILED] certificate verify failed: certificate has expired (_ssl.c:1007)>\n",
            "\n",
            "Downloading https://ossci-datasets.s3.amazonaws.com/mnist/train-labels-idx1-ubyte.gz\n",
            "Downloading https://ossci-datasets.s3.amazonaws.com/mnist/train-labels-idx1-ubyte.gz to ./data/MNIST/raw/train-labels-idx1-ubyte.gz\n"
          ]
        },
        {
          "output_type": "stream",
          "name": "stderr",
          "text": [
            "100%|██████████| 28.9k/28.9k [00:00<00:00, 483kB/s]\n"
          ]
        },
        {
          "output_type": "stream",
          "name": "stdout",
          "text": [
            "Extracting ./data/MNIST/raw/train-labels-idx1-ubyte.gz to ./data/MNIST/raw\n",
            "\n",
            "Downloading http://yann.lecun.com/exdb/mnist/t10k-images-idx3-ubyte.gz\n",
            "Failed to download (trying next):\n",
            "<urlopen error [SSL: CERTIFICATE_VERIFY_FAILED] certificate verify failed: certificate has expired (_ssl.c:1007)>\n",
            "\n",
            "Downloading https://ossci-datasets.s3.amazonaws.com/mnist/t10k-images-idx3-ubyte.gz\n",
            "Downloading https://ossci-datasets.s3.amazonaws.com/mnist/t10k-images-idx3-ubyte.gz to ./data/MNIST/raw/t10k-images-idx3-ubyte.gz\n"
          ]
        },
        {
          "output_type": "stream",
          "name": "stderr",
          "text": [
            "100%|██████████| 1.65M/1.65M [00:00<00:00, 4.38MB/s]\n"
          ]
        },
        {
          "output_type": "stream",
          "name": "stdout",
          "text": [
            "Extracting ./data/MNIST/raw/t10k-images-idx3-ubyte.gz to ./data/MNIST/raw\n",
            "\n",
            "Downloading http://yann.lecun.com/exdb/mnist/t10k-labels-idx1-ubyte.gz\n",
            "Failed to download (trying next):\n",
            "<urlopen error [SSL: CERTIFICATE_VERIFY_FAILED] certificate verify failed: certificate has expired (_ssl.c:1007)>\n",
            "\n",
            "Downloading https://ossci-datasets.s3.amazonaws.com/mnist/t10k-labels-idx1-ubyte.gz\n",
            "Downloading https://ossci-datasets.s3.amazonaws.com/mnist/t10k-labels-idx1-ubyte.gz to ./data/MNIST/raw/t10k-labels-idx1-ubyte.gz\n"
          ]
        },
        {
          "output_type": "stream",
          "name": "stderr",
          "text": [
            "100%|██████████| 4.54k/4.54k [00:00<00:00, 3.68MB/s]"
          ]
        },
        {
          "output_type": "stream",
          "name": "stdout",
          "text": [
            "Extracting ./data/MNIST/raw/t10k-labels-idx1-ubyte.gz to ./data/MNIST/raw\n",
            "\n"
          ]
        },
        {
          "output_type": "stream",
          "name": "stderr",
          "text": [
            "\n"
          ]
        }
      ]
    },
    {
      "cell_type": "code",
      "source": [
        "# 이번엔 DataLoader를 사용합니다. 데이터를 128개씩 묶음(batch)으로 불러와줍니다.\n",
        "def get_dataloaders():\n",
        "    train_loader = DataLoader(train_dataset, batch_size=128, shuffle=True)\n",
        "    test_loader = DataLoader(test_dataset, batch_size=128, shuffle=False)\n",
        "    return train_loader, test_loader"
      ],
      "metadata": {
        "id": "OZBYbdWdzl1P"
      },
      "execution_count": null,
      "outputs": []
    },
    {
      "cell_type": "markdown",
      "source": [
        "## 모델 준비"
      ],
      "metadata": {
        "id": "M2XKo9bp0wfK"
      }
    },
    {
      "cell_type": "code",
      "source": [
        "# 흑백 이미지를 받아서 10개 클래스로 분류해주는 3-layer MLP 모델\n",
        "class Net(nn.Module):\n",
        "    def __init__(self):\n",
        "        super(Net, self).__init__()\n",
        "        self.fc1 = nn.Linear(28 * 28, 512)  # 28 by 28 픽셀을 784개의 값으로로 펼쳐서 사용합니다.\n",
        "        self.fc2 = nn.Linear(512, 128)\n",
        "        self.fc3 = nn.Linear(128, 10)\n",
        "\n",
        "    def forward(self, x):\n",
        "        x = x.view(-1, 28 * 28)\n",
        "        x = self.fc1(x)\n",
        "        x = torch.relu(x)\n",
        "        x = self.fc2(x)\n",
        "        x = torch.relu(x)\n",
        "        x = self.fc3(x)\n",
        "        return x"
      ],
      "metadata": {
        "id": "77-IBfVY0Iqi"
      },
      "execution_count": null,
      "outputs": []
    },
    {
      "cell_type": "markdown",
      "source": [
        "## 학습 준비"
      ],
      "metadata": {
        "id": "QVEClOg90qCI"
      }
    },
    {
      "cell_type": "code",
      "source": [
        "# 모델 학습 함수\n",
        "def train(model, train_loader, epochs, learning_rate, device):\n",
        "    model.to(device)\n",
        "    model.train()\n",
        "    ce_losser = nn.CrossEntropyLoss()\n",
        "    optimizer = optim.Adam(model.parameters(), lr=learning_rate)\n",
        "    for epoch in range(epochs):\n",
        "        running_loss = 0.0\n",
        "        for inputs, labels in iter(train_loader):\n",
        "            inputs = inputs.to(device)\n",
        "            labels = labels.to(device)\n",
        "            optimizer.zero_grad()\n",
        "            logits = model(inputs)\n",
        "            loss = ce_losser(input=logits, target=labels)\n",
        "            loss.backward()\n",
        "            optimizer.step()\n",
        "            running_loss += loss.item()\n",
        "        print(f\"[Epoch {epoch + 1:2d}/{epochs:2d}] Loss: {running_loss / len(train_loader):8.5f}\")"
      ],
      "metadata": {
        "id": "wz6thuOf0ko2"
      },
      "execution_count": null,
      "outputs": []
    },
    {
      "cell_type": "code",
      "source": [
        "# 테스트 함수\n",
        "def test(model, test_loader, device):\n",
        "    model.to(device)\n",
        "    model.eval()\n",
        "    correct = 0\n",
        "    total = 0\n",
        "    with torch.no_grad():\n",
        "        for inputs, labels in iter(test_loader):\n",
        "            inputs = inputs.to(device)\n",
        "            labels = labels.to(device)\n",
        "            logits = model(inputs)\n",
        "            _, predicted = torch.max(logits.data, 1)\n",
        "            total += labels.size(0)\n",
        "            correct += (predicted == labels).sum().item()\n",
        "    accuracy = 100 * correct / total\n",
        "    print(f\"Test 정확도: {accuracy:5.2f}%\")\n",
        "    return accuracy"
      ],
      "metadata": {
        "id": "XrWZv7ro0lgg"
      },
      "execution_count": null,
      "outputs": []
    },
    {
      "cell_type": "code",
      "source": [
        "# 기본 모델 학습 및 테스트 진행\n",
        "torch.manual_seed(42)\n",
        "model = Net()\n",
        "train_loader, test_loader = get_dataloaders()\n",
        "train(model, train_loader, epochs=5, learning_rate=0.001, device=device)\n",
        "accuracy = test(model, test_loader, device)"
      ],
      "metadata": {
        "id": "OMzzd3Gt0mVy",
        "colab": {
          "base_uri": "https://localhost:8080/"
        },
        "outputId": "197304e9-69f0-4d71-8565-de7d6d33ded4"
      },
      "execution_count": null,
      "outputs": [
        {
          "output_type": "stream",
          "name": "stdout",
          "text": [
            "[Epoch  1/ 5] Loss:  0.30870\n",
            "[Epoch  2/ 5] Loss:  0.11009\n",
            "[Epoch  3/ 5] Loss:  0.07186\n",
            "[Epoch  4/ 5] Loss:  0.05127\n",
            "[Epoch  5/ 5] Loss:  0.03615\n",
            "Test 정확도: 97.28%\n"
          ]
        }
      ]
    },
    {
      "cell_type": "code",
      "source": [
        "# TODO: 위에서 배운 pruning 함수를 이용해서 unstructured pruning을 수행합니다.\n",
        "# 어떤 레이어를 얼만큼 하면 좋을지를 고민하고 실험해보세요 (다시 돌릴때는 위 블럭부터 초기화/재학습 시켜야합니다).\n",
        "# 원래 모델의 성능보다 떨어지지 않으면서, 파라미터를 50% 미만으로 줄이는것이 목표입니다.\n",
        "# --- fill below ---\n",
        "\n",
        "\n",
        "# --- fill above ---\n",
        "\n",
        "# pruning 후 fine-tuning은 5 epoch만 진행합니다\n",
        "train(model, train_loader, epochs=5, learning_rate=0.001, device=device)\n",
        "prune.remove(layer, 'weight')"
      ],
      "metadata": {
        "id": "_5dQaX8A4yvZ",
        "colab": {
          "base_uri": "https://localhost:8080/",
          "height": 404
        },
        "outputId": "1d71d179-336a-4faa-9daf-96952e5fd6aa"
      },
      "execution_count": null,
      "outputs": [
        {
          "output_type": "stream",
          "name": "stdout",
          "text": [
            "[Epoch  1/ 5] Loss:  0.03031\n",
            "[Epoch  2/ 5] Loss:  0.02050\n",
            "[Epoch  3/ 5] Loss:  0.01774\n",
            "[Epoch  4/ 5] Loss:  0.01682\n",
            "[Epoch  5/ 5] Loss:  0.01222\n"
          ]
        },
        {
          "output_type": "error",
          "ename": "ValueError",
          "evalue": "Parameter 'weight' of module Linear(in_features=2, out_features=10, bias=True) has to be pruned before pruning can be removed",
          "traceback": [
            "\u001b[0;31m---------------------------------------------------------------------------\u001b[0m",
            "\u001b[0;31mValueError\u001b[0m                                Traceback (most recent call last)",
            "\u001b[0;32m<ipython-input-46-e767ed57fcff>\u001b[0m in \u001b[0;36m<cell line: 11>\u001b[0;34m()\u001b[0m\n\u001b[1;32m      9\u001b[0m \u001b[0;31m# pruning 후 fine-tuning은 5 epoch만 진행합니다\u001b[0m\u001b[0;34m\u001b[0m\u001b[0;34m\u001b[0m\u001b[0m\n\u001b[1;32m     10\u001b[0m \u001b[0mtrain\u001b[0m\u001b[0;34m(\u001b[0m\u001b[0mmodel\u001b[0m\u001b[0;34m,\u001b[0m \u001b[0mtrain_loader\u001b[0m\u001b[0;34m,\u001b[0m \u001b[0mepochs\u001b[0m\u001b[0;34m=\u001b[0m\u001b[0;36m5\u001b[0m\u001b[0;34m,\u001b[0m \u001b[0mlearning_rate\u001b[0m\u001b[0;34m=\u001b[0m\u001b[0;36m0.001\u001b[0m\u001b[0;34m,\u001b[0m \u001b[0mdevice\u001b[0m\u001b[0;34m=\u001b[0m\u001b[0mdevice\u001b[0m\u001b[0;34m)\u001b[0m\u001b[0;34m\u001b[0m\u001b[0;34m\u001b[0m\u001b[0m\n\u001b[0;32m---> 11\u001b[0;31m \u001b[0mprune\u001b[0m\u001b[0;34m.\u001b[0m\u001b[0mremove\u001b[0m\u001b[0;34m(\u001b[0m\u001b[0mlayer\u001b[0m\u001b[0;34m,\u001b[0m \u001b[0;34m'weight'\u001b[0m\u001b[0;34m)\u001b[0m\u001b[0;34m\u001b[0m\u001b[0;34m\u001b[0m\u001b[0m\n\u001b[0m",
            "\u001b[0;32m/usr/local/lib/python3.10/dist-packages/torch/nn/utils/prune.py\u001b[0m in \u001b[0;36mremove\u001b[0;34m(module, name)\u001b[0m\n\u001b[1;32m   1198\u001b[0m             \u001b[0;32mreturn\u001b[0m \u001b[0mmodule\u001b[0m\u001b[0;34m\u001b[0m\u001b[0;34m\u001b[0m\u001b[0m\n\u001b[1;32m   1199\u001b[0m \u001b[0;34m\u001b[0m\u001b[0m\n\u001b[0;32m-> 1200\u001b[0;31m     raise ValueError(\n\u001b[0m\u001b[1;32m   1201\u001b[0m         \u001b[0;34mf\"Parameter '{name}' of module {module} has to be pruned before pruning can be removed\"\u001b[0m\u001b[0;34m\u001b[0m\u001b[0;34m\u001b[0m\u001b[0m\n\u001b[1;32m   1202\u001b[0m     )\n",
            "\u001b[0;31mValueError\u001b[0m: Parameter 'weight' of module Linear(in_features=2, out_features=10, bias=True) has to be pruned before pruning can be removed"
          ]
        }
      ]
    },
    {
      "cell_type": "code",
      "source": [
        "# 성능 측정\n",
        "accuracy = test(model, test_loader, device)\n",
        "\n",
        "# 0이 아닌 파라미터의 비율\n",
        "total_params = sum(p.numel() for p in model.parameters())\n",
        "total_params_nz = sum((p != 0.0).sum() for p in model.parameters())\n",
        "print(f\"non-zero portion: {100 * total_params_nz / total_params:5.02f}%\")"
      ],
      "metadata": {
        "id": "j6vapwHD43qe"
      },
      "execution_count": null,
      "outputs": []
    },
    {
      "cell_type": "markdown",
      "source": [
        "## References\n",
        "\n",
        "* [PyTorch Pruning Tutorial](https://pytorch.org/tutorials/intermediate/pruning_tutorial.html)"
      ],
      "metadata": {
        "id": "V23oD41yJJfa"
      }
    },
    {
      "cell_type": "markdown",
      "source": [
        "## 콘텐츠 라이선스\n",
        "\n",
        "<font color='red'><b>**WARNING**</b></font>: **본 교육 콘텐츠의 지식재산권은 재단법인 네이버커넥트에 귀속됩니다. 본 콘텐츠를 어떠한 경로로든 외부로 유출 및 수정하는 행위를 엄격히 금합니다.** 다만, 비영리적 교육 및 연구활동에 한정되어 사용할 수 있으나 재단의 허락을 받아야 합니다. 이를 위반하는 경우, 관련 법률에 따라 책임을 질 수 있습니다."
      ],
      "metadata": {
        "id": "zfRozXF0JFx8"
      }
    }
  ]
}