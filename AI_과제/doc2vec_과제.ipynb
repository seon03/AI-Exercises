{
  "nbformat": 4,
  "nbformat_minor": 0,
  "metadata": {
    "colab": {
      "provenance": [],
      "authorship_tag": "ABX9TyN/wlGnd5mvNLzFGSbNF3ia",
      "include_colab_link": true
    },
    "kernelspec": {
      "name": "python3",
      "display_name": "Python 3"
    },
    "language_info": {
      "name": "python"
    }
  },
  "cells": [
    {
      "cell_type": "markdown",
      "metadata": {
        "id": "view-in-github",
        "colab_type": "text"
      },
      "source": [
        "<a href=\"https://colab.research.google.com/github/seon03/ArtificialIntelligence/blob/main/doc2vec_%EA%B3%BC%EC%A0%9C.ipynb\" target=\"_parent\"><img src=\"https://colab.research.google.com/assets/colab-badge.svg\" alt=\"Open In Colab\"/></a>"
      ]
    },
    {
      "cell_type": "code",
      "source": [
        "pip install gensim konlpy pandas"
      ],
      "metadata": {
        "colab": {
          "base_uri": "https://localhost:8080/"
        },
        "id": "Ny4yMBalGCp-",
        "outputId": "066ae565-76e5-444b-d695-e05aebc8b9be"
      },
      "execution_count": 2,
      "outputs": [
        {
          "output_type": "stream",
          "name": "stdout",
          "text": [
            "Requirement already satisfied: gensim in /usr/local/lib/python3.10/dist-packages (4.3.2)\n",
            "Collecting konlpy\n",
            "  Downloading konlpy-0.6.0-py2.py3-none-any.whl (19.4 MB)\n",
            "\u001b[2K     \u001b[90m━━━━━━━━━━━━━━━━━━━━━━━━━━━━━━━━━━━━━━━━\u001b[0m \u001b[32m19.4/19.4 MB\u001b[0m \u001b[31m49.3 MB/s\u001b[0m eta \u001b[36m0:00:00\u001b[0m\n",
            "\u001b[?25hRequirement already satisfied: pandas in /usr/local/lib/python3.10/dist-packages (2.0.3)\n",
            "Requirement already satisfied: numpy>=1.18.5 in /usr/local/lib/python3.10/dist-packages (from gensim) (1.25.2)\n",
            "Requirement already satisfied: scipy>=1.7.0 in /usr/local/lib/python3.10/dist-packages (from gensim) (1.11.4)\n",
            "Requirement already satisfied: smart-open>=1.8.1 in /usr/local/lib/python3.10/dist-packages (from gensim) (6.4.0)\n",
            "Collecting JPype1>=0.7.0 (from konlpy)\n",
            "  Downloading JPype1-1.5.0-cp310-cp310-manylinux_2_17_x86_64.manylinux2014_x86_64.whl (488 kB)\n",
            "\u001b[2K     \u001b[90m━━━━━━━━━━━━━━━━━━━━━━━━━━━━━━━━━━━━━━━━\u001b[0m \u001b[32m488.6/488.6 kB\u001b[0m \u001b[31m38.2 MB/s\u001b[0m eta \u001b[36m0:00:00\u001b[0m\n",
            "\u001b[?25hRequirement already satisfied: lxml>=4.1.0 in /usr/local/lib/python3.10/dist-packages (from konlpy) (4.9.4)\n",
            "Requirement already satisfied: python-dateutil>=2.8.2 in /usr/local/lib/python3.10/dist-packages (from pandas) (2.8.2)\n",
            "Requirement already satisfied: pytz>=2020.1 in /usr/local/lib/python3.10/dist-packages (from pandas) (2023.4)\n",
            "Requirement already satisfied: tzdata>=2022.1 in /usr/local/lib/python3.10/dist-packages (from pandas) (2024.1)\n",
            "Requirement already satisfied: packaging in /usr/local/lib/python3.10/dist-packages (from JPype1>=0.7.0->konlpy) (24.0)\n",
            "Requirement already satisfied: six>=1.5 in /usr/local/lib/python3.10/dist-packages (from python-dateutil>=2.8.2->pandas) (1.16.0)\n",
            "Installing collected packages: JPype1, konlpy\n",
            "Successfully installed JPype1-1.5.0 konlpy-0.6.0\n"
          ]
        }
      ]
    },
    {
      "cell_type": "code",
      "execution_count": 18,
      "metadata": {
        "colab": {
          "base_uri": "https://localhost:8080/"
        },
        "id": "C8EtjduICWSh",
        "outputId": "3f300418-70df-454e-dd68-89c1edfa1e77"
      },
      "outputs": [
        {
          "output_type": "stream",
          "name": "stderr",
          "text": [
            "<ipython-input-18-9187f31eb4aa>:8: ParserWarning: Falling back to the 'python' engine because the 'c' engine does not support regex separators (separators > 1 char and different from '\\s+' are interpreted as regex); you can avoid this warning by specifying engine='python'.\n",
            "  df = pandas.read_csv('hotel_info.csv', sep='\",', header=None)\n"
          ]
        },
        {
          "output_type": "stream",
          "name": "stdout",
          "text": [
            "                  0                                                  1\n",
            "0      \"그랜드 하얏트 제주\"  제주 시내 중심에 위치한 랜드마크 제주 드림타워에서 모던 코리안 라이프 스타일을 경...\n",
            "1   \"베스트 웨스턴 제주 호텔\"  세계 7대 자연경관을 자랑하는 제주도의 푸른 휴양지에서 만나볼 수 있는 베스트웨스턴...\n",
            "2       \"메종 글래드 제주\"  메종글래드 제주는 제주시 랜드마크로 많은 사랑을 받아온 제주그랜드호텔의 새로운 이름...\n",
            "3        \"라마다제주시티홀\"  라마다제주시티홀에 오신 것을 환영합니다! 여러분의 \"제 2의 집\"인 제주 호텔에서는...\n",
            "4        \"롯데 호텔 제주\"  푸른 제주 바다와 하늘이 맞닿은 곳에 위치한 롯데호텔제주는 천국 같은 휴식과 여행의...\n",
            "..              ...                                                ...\n",
            "94          \"호텔 라움\"  호텔 라움(은)는 제주 추천 숙소입니다. 가성비 우수, 편안하고 편리함까지 갖춘 이...\n",
            "95      \"샐리스 제주 호텔\"  제주에서 지낼 곳을 찾으세요? 그렇다면 제주의 최고를 가까이에서 즐길 수 있는 소규...\n",
            "96         \"체크인 호텔\"  제주에서 지낼 곳을 찾으세요? 그렇다면 제주의 최고를 가까이에서 즐길 수 있는 패밀...\n",
            "97         \"아스타 호텔\"  제주에서 매력적인 호텔(을)를 찾고 있다면 아스타 호텔(을)를 강추합니다. 관덕정(...\n",
            "98          \"그라벨호텔\"  그라벨호텔(은)는 패밀리 한 분위기뿐만 아니라 여러분의 시간을 더욱 잊지 못하게 해...\n",
            "\n",
            "[99 rows x 2 columns]\n"
          ]
        },
        {
          "output_type": "stream",
          "name": "stderr",
          "text": [
            "100%|██████████| 99/99 [00:04<00:00, 23.67it/s]\n"
          ]
        }
      ],
      "source": [
        "import pandas , nltk\n",
        "from gensim.models.doc2vec import Doc2Vec, TaggedDocument\n",
        "from nltk.tokenize import RegexpTokenizer\n",
        "from konlpy.tag import Okt\n",
        "from tqdm import tqdm\n",
        "\n",
        "# CSV 파일 로드\n",
        "df = pandas.read_csv('hotel_info.csv', sep='\",', header=None)\n",
        "print(df)\n",
        "df.columns=['hotel_name','hotel_description']\n",
        "\n",
        "\n",
        "# 형태소 분석기 초기화\n",
        "okt = Okt()\n",
        "\n",
        "# TaggedDocument 생성\n",
        "tagged_corpus_list = []\n",
        "for index, row in tqdm(df.iterrows(), total=len(df)):\n",
        "    text = row['hotel_description']  # 호텔 설명 부분\n",
        "    tag = row['hotel_name']  # 호텔 이름\n",
        "    tagged_corpus_list.append(TaggedDocument(tags=[tag], words=okt.morphs(text)))\n",
        "\n",
        "# Doc2Vec 모델 학습\n",
        "model = Doc2Vec(tagged_corpus_list, vector_size=100, window=5, min_count=5, workers=4, epochs=20)\n"
      ]
    },
    {
      "cell_type": "code",
      "source": [
        "# '라마다제주시티홀' 호텔과 가장 유사한 호텔 찾기\n",
        "similar_hotel = '\"라마다제주시티홀\"'\n",
        "similar_hotels = model.docvecs.most_similar(similar_hotel, topn=5)\n",
        "\n",
        "# 결과 출력\n",
        "print(f\"{similar_hotel} 호텔과 가장 유사한 호텔:\")\n",
        "for hotel, similarity in similar_hotels:\n",
        "    print(f\"  {hotel}: {similarity:.4f}\")"
      ],
      "metadata": {
        "colab": {
          "base_uri": "https://localhost:8080/"
        },
        "id": "phTvEQz0LDB7",
        "outputId": "d335befc-f9b1-4880-e0ae-915545a21273"
      },
      "execution_count": 19,
      "outputs": [
        {
          "output_type": "stream",
          "name": "stdout",
          "text": [
            "\"라마다제주시티홀\" 호텔과 가장 유사한 호텔:\n",
            "  \"제주오리엔탈호텔 앤 카지노\": 0.9859\n",
            "  \"제주 부영호텔&리조트\": 0.9802\n",
            "  \"하워드 존슨 제주 호텔 연동\": 0.9778\n",
            "  \"제주 이채\": 0.9737\n",
            "  \"체크인 호텔\": 0.9705\n"
          ]
        },
        {
          "output_type": "stream",
          "name": "stderr",
          "text": [
            "<ipython-input-19-c40e846d3005>:3: DeprecationWarning: Call to deprecated `docvecs` (The `docvecs` property has been renamed `dv`.).\n",
            "  similar_hotels = model.docvecs.most_similar(similar_hotel, topn=5)\n"
          ]
        }
      ]
    }
  ]
}
